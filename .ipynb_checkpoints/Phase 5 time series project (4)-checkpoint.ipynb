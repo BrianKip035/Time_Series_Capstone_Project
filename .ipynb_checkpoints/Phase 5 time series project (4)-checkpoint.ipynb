{
 "cells": [
  {
   "cell_type": "markdown",
   "metadata": {},
   "source": [
    "# 2. DATA UNDERSTANDING "
   ]
  },
  {
   "cell_type": "markdown",
   "metadata": {},
   "source": [
    "----"
   ]
  },
  {
   "cell_type": "markdown",
   "metadata": {},
   "source": [
    "### IMPORTING THE NECESSARY LIBRARIES "
   ]
  },
  {
   "cell_type": "code",
   "execution_count": 1,
   "metadata": {},
   "outputs": [],
   "source": [
    "import pandas as pd \n",
    "import numpy as np "
   ]
  },
  {
   "cell_type": "markdown",
   "metadata": {},
   "source": [
    "#### LOADING DATASETS"
   ]
  },
  {
   "cell_type": "code",
   "execution_count": 2,
   "metadata": {},
   "outputs": [],
   "source": [
    "inflation_data = pd.read_csv('Inflation Rates.csv')"
   ]
  },
  {
   "cell_type": "code",
   "execution_count": 3,
   "metadata": {},
   "outputs": [],
   "source": [
    "commodity_data = pd.read_excel('commodity prices.xlsx',header=0)"
   ]
  },
  {
   "cell_type": "code",
   "execution_count": 4,
   "metadata": {},
   "outputs": [],
   "source": [
    "annual_gdp_data = pd.read_csv('Annual GDP.csv')"
   ]
  },
  {
   "cell_type": "code",
   "execution_count": 5,
   "metadata": {},
   "outputs": [],
   "source": [
    "forex_data = pd.read_csv(\"Exchange Rates.csv\")"
   ]
  },
  {
   "cell_type": "code",
   "execution_count": 6,
   "metadata": {},
   "outputs": [
    {
     "data": {
      "text/plain": [
       "Index(['date ', 'price of bread (400g)', 'Refined Vegetable oil (1L)',\n",
       "       'Cows Milk(Fresh,Pasteurized) -500ML', ' Diesel (1L)',\n",
       "       'Maize meal(2kg)', 'Gasoline (1L)'],\n",
       "      dtype='object')"
      ]
     },
     "execution_count": 6,
     "metadata": {},
     "output_type": "execute_result"
    }
   ],
   "source": [
    "commodity_data.columns"
   ]
  },
  {
   "cell_type": "code",
   "execution_count": 7,
   "metadata": {},
   "outputs": [
    {
     "data": {
      "text/html": [
       "<div>\n",
       "<style scoped>\n",
       "    .dataframe tbody tr th:only-of-type {\n",
       "        vertical-align: middle;\n",
       "    }\n",
       "\n",
       "    .dataframe tbody tr th {\n",
       "        vertical-align: top;\n",
       "    }\n",
       "\n",
       "    .dataframe thead th {\n",
       "        text-align: right;\n",
       "    }\n",
       "</style>\n",
       "<table border=\"1\" class=\"dataframe\">\n",
       "  <thead>\n",
       "    <tr style=\"text-align: right;\">\n",
       "      <th></th>\n",
       "      <th>Date</th>\n",
       "      <th>Currency</th>\n",
       "      <th>Mean</th>\n",
       "      <th>Buy</th>\n",
       "      <th>Sell</th>\n",
       "    </tr>\n",
       "  </thead>\n",
       "  <tbody>\n",
       "    <tr>\n",
       "      <th>4330</th>\n",
       "      <td>24/03/2023</td>\n",
       "      <td>US DOLLAR</td>\n",
       "      <td>131.2735</td>\n",
       "      <td>131.1735</td>\n",
       "      <td>131.3735</td>\n",
       "    </tr>\n",
       "    <tr>\n",
       "      <th>4331</th>\n",
       "      <td>27/03/2023</td>\n",
       "      <td>US DOLLAR</td>\n",
       "      <td>131.3971</td>\n",
       "      <td>131.2971</td>\n",
       "      <td>131.4971</td>\n",
       "    </tr>\n",
       "    <tr>\n",
       "      <th>4332</th>\n",
       "      <td>28/03/2023</td>\n",
       "      <td>US DOLLAR</td>\n",
       "      <td>131.5294</td>\n",
       "      <td>131.4294</td>\n",
       "      <td>131.6294</td>\n",
       "    </tr>\n",
       "    <tr>\n",
       "      <th>4333</th>\n",
       "      <td>29/03/2023</td>\n",
       "      <td>US DOLLAR</td>\n",
       "      <td>131.7765</td>\n",
       "      <td>131.6765</td>\n",
       "      <td>131.8765</td>\n",
       "    </tr>\n",
       "    <tr>\n",
       "      <th>4334</th>\n",
       "      <td>30/03/2023</td>\n",
       "      <td>US DOLLAR</td>\n",
       "      <td>132.1265</td>\n",
       "      <td>132.0265</td>\n",
       "      <td>132.2265</td>\n",
       "    </tr>\n",
       "  </tbody>\n",
       "</table>\n",
       "</div>"
      ],
      "text/plain": [
       "            Date   Currency      Mean       Buy      Sell\n",
       "4330  24/03/2023  US DOLLAR  131.2735  131.1735  131.3735\n",
       "4331  27/03/2023  US DOLLAR  131.3971  131.2971  131.4971\n",
       "4332  28/03/2023  US DOLLAR  131.5294  131.4294  131.6294\n",
       "4333  29/03/2023  US DOLLAR  131.7765  131.6765  131.8765\n",
       "4334  30/03/2023  US DOLLAR  132.1265  132.0265  132.2265"
      ]
     },
     "execution_count": 7,
     "metadata": {},
     "output_type": "execute_result"
    }
   ],
   "source": [
    "forex_data.tail()"
   ]
  },
  {
   "cell_type": "markdown",
   "metadata": {},
   "source": [
    "#### DATA DESCRIPTION"
   ]
  },
  {
   "cell_type": "markdown",
   "metadata": {},
   "source": [
    "#### 1. Commodities data "
   ]
  },
  {
   "cell_type": "code",
   "execution_count": 8,
   "metadata": {},
   "outputs": [
    {
     "data": {
      "text/html": [
       "<div>\n",
       "<style scoped>\n",
       "    .dataframe tbody tr th:only-of-type {\n",
       "        vertical-align: middle;\n",
       "    }\n",
       "\n",
       "    .dataframe tbody tr th {\n",
       "        vertical-align: top;\n",
       "    }\n",
       "\n",
       "    .dataframe thead th {\n",
       "        text-align: right;\n",
       "    }\n",
       "</style>\n",
       "<table border=\"1\" class=\"dataframe\">\n",
       "  <thead>\n",
       "    <tr style=\"text-align: right;\">\n",
       "      <th></th>\n",
       "      <th>date</th>\n",
       "      <th>price of bread (400g)</th>\n",
       "      <th>Refined Vegetable oil (1L)</th>\n",
       "      <th>Cows Milk(Fresh,Pasteurized) -500ML</th>\n",
       "      <th>Diesel (1L)</th>\n",
       "      <th>Maize meal(2kg)</th>\n",
       "      <th>Gasoline (1L)</th>\n",
       "    </tr>\n",
       "  </thead>\n",
       "  <tbody>\n",
       "    <tr>\n",
       "      <th>0</th>\n",
       "      <td>2006-01-31</td>\n",
       "      <td>26.0</td>\n",
       "      <td>115.0</td>\n",
       "      <td>22.0</td>\n",
       "      <td>65.99</td>\n",
       "      <td>50.693333</td>\n",
       "      <td>75.99</td>\n",
       "    </tr>\n",
       "    <tr>\n",
       "      <th>1</th>\n",
       "      <td>2006-02-28</td>\n",
       "      <td>26.0</td>\n",
       "      <td>120.0</td>\n",
       "      <td>25.0</td>\n",
       "      <td>64.99</td>\n",
       "      <td>52.573333</td>\n",
       "      <td>74.99</td>\n",
       "    </tr>\n",
       "    <tr>\n",
       "      <th>2</th>\n",
       "      <td>2006-03-31</td>\n",
       "      <td>26.0</td>\n",
       "      <td>108.0</td>\n",
       "      <td>25.0</td>\n",
       "      <td>65.99</td>\n",
       "      <td>52.480000</td>\n",
       "      <td>75.99</td>\n",
       "    </tr>\n",
       "    <tr>\n",
       "      <th>3</th>\n",
       "      <td>2006-04-30</td>\n",
       "      <td>26.0</td>\n",
       "      <td>110.0</td>\n",
       "      <td>25.0</td>\n",
       "      <td>66.64</td>\n",
       "      <td>53.613333</td>\n",
       "      <td>76.64</td>\n",
       "    </tr>\n",
       "    <tr>\n",
       "      <th>4</th>\n",
       "      <td>2006-05-31</td>\n",
       "      <td>26.0</td>\n",
       "      <td>120.0</td>\n",
       "      <td>25.0</td>\n",
       "      <td>67.89</td>\n",
       "      <td>55.906667</td>\n",
       "      <td>77.89</td>\n",
       "    </tr>\n",
       "  </tbody>\n",
       "</table>\n",
       "</div>"
      ],
      "text/plain": [
       "       date   price of bread (400g)  Refined Vegetable oil (1L)  \\\n",
       "0 2006-01-31                   26.0                       115.0   \n",
       "1 2006-02-28                   26.0                       120.0   \n",
       "2 2006-03-31                   26.0                       108.0   \n",
       "3 2006-04-30                   26.0                       110.0   \n",
       "4 2006-05-31                   26.0                       120.0   \n",
       "\n",
       "   Cows Milk(Fresh,Pasteurized) -500ML   Diesel (1L)  Maize meal(2kg)  \\\n",
       "0                                 22.0         65.99        50.693333   \n",
       "1                                 25.0         64.99        52.573333   \n",
       "2                                 25.0         65.99        52.480000   \n",
       "3                                 25.0         66.64        53.613333   \n",
       "4                                 25.0         67.89        55.906667   \n",
       "\n",
       "   Gasoline (1L)  \n",
       "0          75.99  \n",
       "1          74.99  \n",
       "2          75.99  \n",
       "3          76.64  \n",
       "4          77.89  "
      ]
     },
     "execution_count": 8,
     "metadata": {},
     "output_type": "execute_result"
    }
   ],
   "source": [
    "commodity_data.head()"
   ]
  },
  {
   "cell_type": "code",
   "execution_count": null,
   "metadata": {},
   "outputs": [],
   "source": []
  },
  {
   "cell_type": "code",
   "execution_count": 9,
   "metadata": {},
   "outputs": [
    {
     "data": {
      "text/html": [
       "<div>\n",
       "<style scoped>\n",
       "    .dataframe tbody tr th:only-of-type {\n",
       "        vertical-align: middle;\n",
       "    }\n",
       "\n",
       "    .dataframe tbody tr th {\n",
       "        vertical-align: top;\n",
       "    }\n",
       "\n",
       "    .dataframe thead th {\n",
       "        text-align: right;\n",
       "    }\n",
       "</style>\n",
       "<table border=\"1\" class=\"dataframe\">\n",
       "  <thead>\n",
       "    <tr style=\"text-align: right;\">\n",
       "      <th></th>\n",
       "      <th>date</th>\n",
       "      <th>price of bread (400g)</th>\n",
       "      <th>Refined Vegetable oil (1L)</th>\n",
       "      <th>Cows Milk(Fresh,Pasteurized) -500ML</th>\n",
       "      <th>Diesel (1L)</th>\n",
       "      <th>Maize meal(2kg)</th>\n",
       "      <th>Gasoline (1L)</th>\n",
       "    </tr>\n",
       "  </thead>\n",
       "  <tbody>\n",
       "    <tr>\n",
       "      <th>202</th>\n",
       "      <td>2022-11-30</td>\n",
       "      <td>60.0</td>\n",
       "      <td>599.0</td>\n",
       "      <td>55.0</td>\n",
       "      <td>162.0</td>\n",
       "      <td>211.0</td>\n",
       "      <td>177.3</td>\n",
       "    </tr>\n",
       "    <tr>\n",
       "      <th>203</th>\n",
       "      <td>2022-12-31</td>\n",
       "      <td>60.0</td>\n",
       "      <td>599.0</td>\n",
       "      <td>60.0</td>\n",
       "      <td>162.0</td>\n",
       "      <td>202.0</td>\n",
       "      <td>177.3</td>\n",
       "    </tr>\n",
       "    <tr>\n",
       "      <th>204</th>\n",
       "      <td>2023-01-31</td>\n",
       "      <td>60.0</td>\n",
       "      <td>599.0</td>\n",
       "      <td>53.0</td>\n",
       "      <td>162.0</td>\n",
       "      <td>185.0</td>\n",
       "      <td>177.3</td>\n",
       "    </tr>\n",
       "    <tr>\n",
       "      <th>205</th>\n",
       "      <td>2023-02-28</td>\n",
       "      <td>60.0</td>\n",
       "      <td>599.0</td>\n",
       "      <td>58.0</td>\n",
       "      <td>165.0</td>\n",
       "      <td>190.0</td>\n",
       "      <td>179.3</td>\n",
       "    </tr>\n",
       "    <tr>\n",
       "      <th>206</th>\n",
       "      <td>2023-03-31</td>\n",
       "      <td>60.0</td>\n",
       "      <td>599.0</td>\n",
       "      <td>60.0</td>\n",
       "      <td>165.0</td>\n",
       "      <td>195.0</td>\n",
       "      <td>179.3</td>\n",
       "    </tr>\n",
       "  </tbody>\n",
       "</table>\n",
       "</div>"
      ],
      "text/plain": [
       "         date   price of bread (400g)  Refined Vegetable oil (1L)  \\\n",
       "202 2022-11-30                   60.0                       599.0   \n",
       "203 2022-12-31                   60.0                       599.0   \n",
       "204 2023-01-31                   60.0                       599.0   \n",
       "205 2023-02-28                   60.0                       599.0   \n",
       "206 2023-03-31                   60.0                       599.0   \n",
       "\n",
       "     Cows Milk(Fresh,Pasteurized) -500ML   Diesel (1L)  Maize meal(2kg)  \\\n",
       "202                                 55.0         162.0            211.0   \n",
       "203                                 60.0         162.0            202.0   \n",
       "204                                 53.0         162.0            185.0   \n",
       "205                                 58.0         165.0            190.0   \n",
       "206                                 60.0         165.0            195.0   \n",
       "\n",
       "     Gasoline (1L)  \n",
       "202          177.3  \n",
       "203          177.3  \n",
       "204          177.3  \n",
       "205          179.3  \n",
       "206          179.3  "
      ]
     },
     "execution_count": 9,
     "metadata": {},
     "output_type": "execute_result"
    }
   ],
   "source": [
    "commodity_data.tail()"
   ]
  },
  {
   "cell_type": "code",
   "execution_count": 10,
   "metadata": {},
   "outputs": [
    {
     "data": {
      "text/plain": [
       "(207, 7)"
      ]
     },
     "execution_count": 10,
     "metadata": {},
     "output_type": "execute_result"
    }
   ],
   "source": [
    "commodity_data.shape"
   ]
  },
  {
   "cell_type": "code",
   "execution_count": 11,
   "metadata": {},
   "outputs": [
    {
     "name": "stdout",
     "output_type": "stream",
     "text": [
      "<class 'pandas.core.frame.DataFrame'>\n",
      "RangeIndex: 207 entries, 0 to 206\n",
      "Data columns (total 7 columns):\n",
      " #   Column                               Non-Null Count  Dtype         \n",
      "---  ------                               --------------  -----         \n",
      " 0   date                                 207 non-null    datetime64[ns]\n",
      " 1   price of bread (400g)                206 non-null    float64       \n",
      " 2   Refined Vegetable oil (1L)           203 non-null    float64       \n",
      " 3   Cows Milk(Fresh,Pasteurized) -500ML  203 non-null    float64       \n",
      " 4    Diesel (1L)                         203 non-null    float64       \n",
      " 5   Maize meal(2kg)                      201 non-null    float64       \n",
      " 6   Gasoline (1L)                        203 non-null    float64       \n",
      "dtypes: datetime64[ns](1), float64(6)\n",
      "memory usage: 11.4 KB\n"
     ]
    }
   ],
   "source": [
    "commodity_data.info()"
   ]
  },
  {
   "cell_type": "code",
   "execution_count": 12,
   "metadata": {},
   "outputs": [
    {
     "data": {
      "text/html": [
       "<div>\n",
       "<style scoped>\n",
       "    .dataframe tbody tr th:only-of-type {\n",
       "        vertical-align: middle;\n",
       "    }\n",
       "\n",
       "    .dataframe tbody tr th {\n",
       "        vertical-align: top;\n",
       "    }\n",
       "\n",
       "    .dataframe thead th {\n",
       "        text-align: right;\n",
       "    }\n",
       "</style>\n",
       "<table border=\"1\" class=\"dataframe\">\n",
       "  <thead>\n",
       "    <tr style=\"text-align: right;\">\n",
       "      <th></th>\n",
       "      <th>price of bread (400g)</th>\n",
       "      <th>Refined Vegetable oil (1L)</th>\n",
       "      <th>Cows Milk(Fresh,Pasteurized) -500ML</th>\n",
       "      <th>Diesel (1L)</th>\n",
       "      <th>Maize meal(2kg)</th>\n",
       "      <th>Gasoline (1L)</th>\n",
       "    </tr>\n",
       "  </thead>\n",
       "  <tbody>\n",
       "    <tr>\n",
       "      <th>count</th>\n",
       "      <td>206.000000</td>\n",
       "      <td>203.000000</td>\n",
       "      <td>203.000000</td>\n",
       "      <td>203.000000</td>\n",
       "      <td>201.000000</td>\n",
       "      <td>203.000000</td>\n",
       "    </tr>\n",
       "    <tr>\n",
       "      <th>mean</th>\n",
       "      <td>43.703883</td>\n",
       "      <td>253.733990</td>\n",
       "      <td>40.118227</td>\n",
       "      <td>94.727488</td>\n",
       "      <td>100.589469</td>\n",
       "      <td>105.003103</td>\n",
       "    </tr>\n",
       "    <tr>\n",
       "      <th>std</th>\n",
       "      <td>9.271235</td>\n",
       "      <td>110.660207</td>\n",
       "      <td>11.617067</td>\n",
       "      <td>20.495735</td>\n",
       "      <td>34.148052</td>\n",
       "      <td>21.798128</td>\n",
       "    </tr>\n",
       "    <tr>\n",
       "      <th>min</th>\n",
       "      <td>26.000000</td>\n",
       "      <td>108.000000</td>\n",
       "      <td>20.000000</td>\n",
       "      <td>64.990000</td>\n",
       "      <td>12.000000</td>\n",
       "      <td>74.000000</td>\n",
       "    </tr>\n",
       "    <tr>\n",
       "      <th>25%</th>\n",
       "      <td>34.000000</td>\n",
       "      <td>180.000000</td>\n",
       "      <td>29.000000</td>\n",
       "      <td>78.405000</td>\n",
       "      <td>83.000000</td>\n",
       "      <td>89.170000</td>\n",
       "    </tr>\n",
       "    <tr>\n",
       "      <th>50%</th>\n",
       "      <td>47.500000</td>\n",
       "      <td>233.000000</td>\n",
       "      <td>45.000000</td>\n",
       "      <td>94.800000</td>\n",
       "      <td>103.000000</td>\n",
       "      <td>104.200000</td>\n",
       "    </tr>\n",
       "    <tr>\n",
       "      <th>75%</th>\n",
       "      <td>50.000000</td>\n",
       "      <td>313.000000</td>\n",
       "      <td>50.000000</td>\n",
       "      <td>105.670000</td>\n",
       "      <td>115.000000</td>\n",
       "      <td>114.020000</td>\n",
       "    </tr>\n",
       "    <tr>\n",
       "      <th>max</th>\n",
       "      <td>63.000000</td>\n",
       "      <td>622.000000</td>\n",
       "      <td>60.000000</td>\n",
       "      <td>165.000000</td>\n",
       "      <td>211.000000</td>\n",
       "      <td>179.300000</td>\n",
       "    </tr>\n",
       "  </tbody>\n",
       "</table>\n",
       "</div>"
      ],
      "text/plain": [
       "       price of bread (400g)  Refined Vegetable oil (1L)  \\\n",
       "count             206.000000                  203.000000   \n",
       "mean               43.703883                  253.733990   \n",
       "std                 9.271235                  110.660207   \n",
       "min                26.000000                  108.000000   \n",
       "25%                34.000000                  180.000000   \n",
       "50%                47.500000                  233.000000   \n",
       "75%                50.000000                  313.000000   \n",
       "max                63.000000                  622.000000   \n",
       "\n",
       "       Cows Milk(Fresh,Pasteurized) -500ML   Diesel (1L)  Maize meal(2kg)  \\\n",
       "count                           203.000000    203.000000       201.000000   \n",
       "mean                             40.118227     94.727488       100.589469   \n",
       "std                              11.617067     20.495735        34.148052   \n",
       "min                              20.000000     64.990000        12.000000   \n",
       "25%                              29.000000     78.405000        83.000000   \n",
       "50%                              45.000000     94.800000       103.000000   \n",
       "75%                              50.000000    105.670000       115.000000   \n",
       "max                              60.000000    165.000000       211.000000   \n",
       "\n",
       "       Gasoline (1L)  \n",
       "count     203.000000  \n",
       "mean      105.003103  \n",
       "std        21.798128  \n",
       "min        74.000000  \n",
       "25%        89.170000  \n",
       "50%       104.200000  \n",
       "75%       114.020000  \n",
       "max       179.300000  "
      ]
     },
     "execution_count": 12,
     "metadata": {},
     "output_type": "execute_result"
    }
   ],
   "source": [
    "commodity_data.describe()"
   ]
  },
  {
   "cell_type": "markdown",
   "metadata": {},
   "source": [
    "#### 2. Inflation data "
   ]
  },
  {
   "cell_type": "code",
   "execution_count": 13,
   "metadata": {
    "scrolled": true
   },
   "outputs": [
    {
     "data": {
      "text/html": [
       "<div>\n",
       "<style scoped>\n",
       "    .dataframe tbody tr th:only-of-type {\n",
       "        vertical-align: middle;\n",
       "    }\n",
       "\n",
       "    .dataframe tbody tr th {\n",
       "        vertical-align: top;\n",
       "    }\n",
       "\n",
       "    .dataframe thead th {\n",
       "        text-align: right;\n",
       "    }\n",
       "</style>\n",
       "<table border=\"1\" class=\"dataframe\">\n",
       "  <thead>\n",
       "    <tr style=\"text-align: right;\">\n",
       "      <th></th>\n",
       "      <th>Year</th>\n",
       "      <th>Month</th>\n",
       "      <th>Annual Average Inflation</th>\n",
       "      <th>12-Month Inflation</th>\n",
       "    </tr>\n",
       "  </thead>\n",
       "  <tbody>\n",
       "    <tr>\n",
       "      <th>0</th>\n",
       "      <td>2023</td>\n",
       "      <td>February</td>\n",
       "      <td>8.30</td>\n",
       "      <td>9.23</td>\n",
       "    </tr>\n",
       "    <tr>\n",
       "      <th>1</th>\n",
       "      <td>2023</td>\n",
       "      <td>January</td>\n",
       "      <td>7.95</td>\n",
       "      <td>8.98</td>\n",
       "    </tr>\n",
       "    <tr>\n",
       "      <th>2</th>\n",
       "      <td>2022</td>\n",
       "      <td>December</td>\n",
       "      <td>7.66</td>\n",
       "      <td>9.06</td>\n",
       "    </tr>\n",
       "    <tr>\n",
       "      <th>3</th>\n",
       "      <td>2022</td>\n",
       "      <td>November</td>\n",
       "      <td>7.38</td>\n",
       "      <td>9.48</td>\n",
       "    </tr>\n",
       "    <tr>\n",
       "      <th>4</th>\n",
       "      <td>2022</td>\n",
       "      <td>October</td>\n",
       "      <td>7.48</td>\n",
       "      <td>9.59</td>\n",
       "    </tr>\n",
       "  </tbody>\n",
       "</table>\n",
       "</div>"
      ],
      "text/plain": [
       "   Year     Month  Annual Average Inflation  12-Month Inflation\n",
       "0  2023  February                      8.30                9.23\n",
       "1  2023   January                      7.95                8.98\n",
       "2  2022  December                      7.66                9.06\n",
       "3  2022  November                      7.38                9.48\n",
       "4  2022   October                      7.48                9.59"
      ]
     },
     "execution_count": 13,
     "metadata": {},
     "output_type": "execute_result"
    }
   ],
   "source": [
    "inflation_data.head()"
   ]
  },
  {
   "cell_type": "code",
   "execution_count": 14,
   "metadata": {},
   "outputs": [
    {
     "data": {
      "text/html": [
       "<div>\n",
       "<style scoped>\n",
       "    .dataframe tbody tr th:only-of-type {\n",
       "        vertical-align: middle;\n",
       "    }\n",
       "\n",
       "    .dataframe tbody tr th {\n",
       "        vertical-align: top;\n",
       "    }\n",
       "\n",
       "    .dataframe thead th {\n",
       "        text-align: right;\n",
       "    }\n",
       "</style>\n",
       "<table border=\"1\" class=\"dataframe\">\n",
       "  <thead>\n",
       "    <tr style=\"text-align: right;\">\n",
       "      <th></th>\n",
       "      <th>Year</th>\n",
       "      <th>Month</th>\n",
       "    </tr>\n",
       "  </thead>\n",
       "  <tbody>\n",
       "    <tr>\n",
       "      <th>0</th>\n",
       "      <td>2023</td>\n",
       "      <td>February</td>\n",
       "    </tr>\n",
       "    <tr>\n",
       "      <th>1</th>\n",
       "      <td>2023</td>\n",
       "      <td>January</td>\n",
       "    </tr>\n",
       "    <tr>\n",
       "      <th>2</th>\n",
       "      <td>2022</td>\n",
       "      <td>December</td>\n",
       "    </tr>\n",
       "    <tr>\n",
       "      <th>3</th>\n",
       "      <td>2022</td>\n",
       "      <td>November</td>\n",
       "    </tr>\n",
       "    <tr>\n",
       "      <th>4</th>\n",
       "      <td>2022</td>\n",
       "      <td>October</td>\n",
       "    </tr>\n",
       "    <tr>\n",
       "      <th>...</th>\n",
       "      <td>...</td>\n",
       "      <td>...</td>\n",
       "    </tr>\n",
       "    <tr>\n",
       "      <th>202</th>\n",
       "      <td>2006</td>\n",
       "      <td>May</td>\n",
       "    </tr>\n",
       "    <tr>\n",
       "      <th>203</th>\n",
       "      <td>2006</td>\n",
       "      <td>April</td>\n",
       "    </tr>\n",
       "    <tr>\n",
       "      <th>204</th>\n",
       "      <td>2006</td>\n",
       "      <td>March</td>\n",
       "    </tr>\n",
       "    <tr>\n",
       "      <th>205</th>\n",
       "      <td>2006</td>\n",
       "      <td>February</td>\n",
       "    </tr>\n",
       "    <tr>\n",
       "      <th>206</th>\n",
       "      <td>2006</td>\n",
       "      <td>January</td>\n",
       "    </tr>\n",
       "  </tbody>\n",
       "</table>\n",
       "<p>207 rows × 2 columns</p>\n",
       "</div>"
      ],
      "text/plain": [
       "     Year     Month\n",
       "0    2023  February\n",
       "1    2023   January\n",
       "2    2022  December\n",
       "3    2022  November\n",
       "4    2022   October\n",
       "..    ...       ...\n",
       "202  2006       May\n",
       "203  2006     April\n",
       "204  2006     March\n",
       "205  2006  February\n",
       "206  2006   January\n",
       "\n",
       "[207 rows x 2 columns]"
      ]
     },
     "execution_count": 14,
     "metadata": {},
     "output_type": "execute_result"
    }
   ],
   "source": [
    "inflation_data[['Year','Month']]"
   ]
  },
  {
   "cell_type": "code",
   "execution_count": 15,
   "metadata": {},
   "outputs": [
    {
     "data": {
      "text/html": [
       "<div>\n",
       "<style scoped>\n",
       "    .dataframe tbody tr th:only-of-type {\n",
       "        vertical-align: middle;\n",
       "    }\n",
       "\n",
       "    .dataframe tbody tr th {\n",
       "        vertical-align: top;\n",
       "    }\n",
       "\n",
       "    .dataframe thead th {\n",
       "        text-align: right;\n",
       "    }\n",
       "</style>\n",
       "<table border=\"1\" class=\"dataframe\">\n",
       "  <thead>\n",
       "    <tr style=\"text-align: right;\">\n",
       "      <th></th>\n",
       "      <th>Year</th>\n",
       "      <th>Month</th>\n",
       "      <th>Annual Average Inflation</th>\n",
       "      <th>12-Month Inflation</th>\n",
       "    </tr>\n",
       "  </thead>\n",
       "  <tbody>\n",
       "    <tr>\n",
       "      <th>202</th>\n",
       "      <td>2006</td>\n",
       "      <td>May</td>\n",
       "      <td>6.95</td>\n",
       "      <td>4.47</td>\n",
       "    </tr>\n",
       "    <tr>\n",
       "      <th>203</th>\n",
       "      <td>2006</td>\n",
       "      <td>April</td>\n",
       "      <td>7.77</td>\n",
       "      <td>5.44</td>\n",
       "    </tr>\n",
       "    <tr>\n",
       "      <th>204</th>\n",
       "      <td>2006</td>\n",
       "      <td>March</td>\n",
       "      <td>8.61</td>\n",
       "      <td>8.85</td>\n",
       "    </tr>\n",
       "    <tr>\n",
       "      <th>205</th>\n",
       "      <td>2006</td>\n",
       "      <td>February</td>\n",
       "      <td>9.01</td>\n",
       "      <td>9.39</td>\n",
       "    </tr>\n",
       "    <tr>\n",
       "      <th>206</th>\n",
       "      <td>2006</td>\n",
       "      <td>January</td>\n",
       "      <td>9.36</td>\n",
       "      <td>8.39</td>\n",
       "    </tr>\n",
       "  </tbody>\n",
       "</table>\n",
       "</div>"
      ],
      "text/plain": [
       "     Year     Month  Annual Average Inflation  12-Month Inflation\n",
       "202  2006       May                      6.95                4.47\n",
       "203  2006     April                      7.77                5.44\n",
       "204  2006     March                      8.61                8.85\n",
       "205  2006  February                      9.01                9.39\n",
       "206  2006   January                      9.36                8.39"
      ]
     },
     "execution_count": 15,
     "metadata": {},
     "output_type": "execute_result"
    }
   ],
   "source": [
    "inflation_data.tail()"
   ]
  },
  {
   "cell_type": "code",
   "execution_count": 16,
   "metadata": {},
   "outputs": [
    {
     "data": {
      "text/plain": [
       "(207, 4)"
      ]
     },
     "execution_count": 16,
     "metadata": {},
     "output_type": "execute_result"
    }
   ],
   "source": [
    "inflation_data.shape"
   ]
  },
  {
   "cell_type": "code",
   "execution_count": 17,
   "metadata": {},
   "outputs": [
    {
     "name": "stdout",
     "output_type": "stream",
     "text": [
      "<class 'pandas.core.frame.DataFrame'>\n",
      "RangeIndex: 207 entries, 0 to 206\n",
      "Data columns (total 4 columns):\n",
      " #   Column                    Non-Null Count  Dtype  \n",
      "---  ------                    --------------  -----  \n",
      " 0   Year                      207 non-null    int64  \n",
      " 1   Month                     207 non-null    object \n",
      " 2   Annual Average Inflation  207 non-null    float64\n",
      " 3   12-Month Inflation        207 non-null    float64\n",
      "dtypes: float64(2), int64(1), object(1)\n",
      "memory usage: 6.6+ KB\n"
     ]
    }
   ],
   "source": [
    "inflation_data.info()"
   ]
  },
  {
   "cell_type": "code",
   "execution_count": 18,
   "metadata": {
    "scrolled": true
   },
   "outputs": [
    {
     "data": {
      "text/html": [
       "<div>\n",
       "<style scoped>\n",
       "    .dataframe tbody tr th:only-of-type {\n",
       "        vertical-align: middle;\n",
       "    }\n",
       "\n",
       "    .dataframe tbody tr th {\n",
       "        vertical-align: top;\n",
       "    }\n",
       "\n",
       "    .dataframe thead th {\n",
       "        text-align: right;\n",
       "    }\n",
       "</style>\n",
       "<table border=\"1\" class=\"dataframe\">\n",
       "  <thead>\n",
       "    <tr style=\"text-align: right;\">\n",
       "      <th></th>\n",
       "      <th>Year</th>\n",
       "      <th>Annual Average Inflation</th>\n",
       "      <th>12-Month Inflation</th>\n",
       "    </tr>\n",
       "  </thead>\n",
       "  <tbody>\n",
       "    <tr>\n",
       "      <th>count</th>\n",
       "      <td>207.000000</td>\n",
       "      <td>207.000000</td>\n",
       "      <td>207.000000</td>\n",
       "    </tr>\n",
       "    <tr>\n",
       "      <th>mean</th>\n",
       "      <td>2014.111111</td>\n",
       "      <td>7.388599</td>\n",
       "      <td>7.437343</td>\n",
       "    </tr>\n",
       "    <tr>\n",
       "      <th>std</th>\n",
       "      <td>4.966120</td>\n",
       "      <td>3.227572</td>\n",
       "      <td>3.958024</td>\n",
       "    </tr>\n",
       "    <tr>\n",
       "      <th>min</th>\n",
       "      <td>2006.000000</td>\n",
       "      <td>3.930000</td>\n",
       "      <td>1.850000</td>\n",
       "    </tr>\n",
       "    <tr>\n",
       "      <th>25%</th>\n",
       "      <td>2010.000000</td>\n",
       "      <td>5.335000</td>\n",
       "      <td>5.000000</td>\n",
       "    </tr>\n",
       "    <tr>\n",
       "      <th>50%</th>\n",
       "      <td>2014.000000</td>\n",
       "      <td>6.340000</td>\n",
       "      <td>6.310000</td>\n",
       "    </tr>\n",
       "    <tr>\n",
       "      <th>75%</th>\n",
       "      <td>2018.000000</td>\n",
       "      <td>7.880000</td>\n",
       "      <td>8.305000</td>\n",
       "    </tr>\n",
       "    <tr>\n",
       "      <th>max</th>\n",
       "      <td>2023.000000</td>\n",
       "      <td>17.070000</td>\n",
       "      <td>19.720000</td>\n",
       "    </tr>\n",
       "  </tbody>\n",
       "</table>\n",
       "</div>"
      ],
      "text/plain": [
       "              Year  Annual Average Inflation  12-Month Inflation\n",
       "count   207.000000                207.000000          207.000000\n",
       "mean   2014.111111                  7.388599            7.437343\n",
       "std       4.966120                  3.227572            3.958024\n",
       "min    2006.000000                  3.930000            1.850000\n",
       "25%    2010.000000                  5.335000            5.000000\n",
       "50%    2014.000000                  6.340000            6.310000\n",
       "75%    2018.000000                  7.880000            8.305000\n",
       "max    2023.000000                 17.070000           19.720000"
      ]
     },
     "execution_count": 18,
     "metadata": {},
     "output_type": "execute_result"
    }
   ],
   "source": [
    "inflation_data.describe()"
   ]
  },
  {
   "cell_type": "markdown",
   "metadata": {},
   "source": [
    "#### 3. Annual GDP "
   ]
  },
  {
   "cell_type": "code",
   "execution_count": 19,
   "metadata": {},
   "outputs": [
    {
     "data": {
      "text/html": [
       "<div>\n",
       "<style scoped>\n",
       "    .dataframe tbody tr th:only-of-type {\n",
       "        vertical-align: middle;\n",
       "    }\n",
       "\n",
       "    .dataframe tbody tr th {\n",
       "        vertical-align: top;\n",
       "    }\n",
       "\n",
       "    .dataframe thead th {\n",
       "        text-align: right;\n",
       "    }\n",
       "</style>\n",
       "<table border=\"1\" class=\"dataframe\">\n",
       "  <thead>\n",
       "    <tr style=\"text-align: right;\">\n",
       "      <th></th>\n",
       "      <th>Year</th>\n",
       "      <th>Nominal GDP prices (Ksh Million)</th>\n",
       "      <th>Annual GDP growth (%)</th>\n",
       "      <th>Real GDP prices (Ksh Million)</th>\n",
       "    </tr>\n",
       "  </thead>\n",
       "  <tbody>\n",
       "    <tr>\n",
       "      <th>0</th>\n",
       "      <td>2021</td>\n",
       "      <td>12,098,200</td>\n",
       "      <td>7.5</td>\n",
       "      <td>9,391,684</td>\n",
       "    </tr>\n",
       "    <tr>\n",
       "      <th>1</th>\n",
       "      <td>2020</td>\n",
       "      <td>10,716,034</td>\n",
       "      <td>-0.3</td>\n",
       "      <td>8,735,040</td>\n",
       "    </tr>\n",
       "    <tr>\n",
       "      <th>2</th>\n",
       "      <td>2019</td>\n",
       "      <td>10,237,727</td>\n",
       "      <td>5.1</td>\n",
       "      <td>8,756,946</td>\n",
       "    </tr>\n",
       "    <tr>\n",
       "      <th>3</th>\n",
       "      <td>2018</td>\n",
       "      <td>9,340,307</td>\n",
       "      <td>5.6</td>\n",
       "      <td>8,330,891</td>\n",
       "    </tr>\n",
       "    <tr>\n",
       "      <th>4</th>\n",
       "      <td>2017</td>\n",
       "      <td>8,483,396</td>\n",
       "      <td>3.8</td>\n",
       "      <td>7,885,521</td>\n",
       "    </tr>\n",
       "  </tbody>\n",
       "</table>\n",
       "</div>"
      ],
      "text/plain": [
       "   Year Nominal GDP prices (Ksh Million)  Annual GDP growth (%)  \\\n",
       "0  2021                       12,098,200                    7.5   \n",
       "1  2020                       10,716,034                   -0.3   \n",
       "2  2019                       10,237,727                    5.1   \n",
       "3  2018                        9,340,307                    5.6   \n",
       "4  2017                        8,483,396                    3.8   \n",
       "\n",
       "  Real GDP prices (Ksh Million)  \n",
       "0                     9,391,684  \n",
       "1                     8,735,040  \n",
       "2                     8,756,946  \n",
       "3                     8,330,891  \n",
       "4                     7,885,521  "
      ]
     },
     "execution_count": 19,
     "metadata": {},
     "output_type": "execute_result"
    }
   ],
   "source": [
    "annual_gdp_data.head()"
   ]
  },
  {
   "cell_type": "code",
   "execution_count": 20,
   "metadata": {},
   "outputs": [
    {
     "data": {
      "text/html": [
       "<div>\n",
       "<style scoped>\n",
       "    .dataframe tbody tr th:only-of-type {\n",
       "        vertical-align: middle;\n",
       "    }\n",
       "\n",
       "    .dataframe tbody tr th {\n",
       "        vertical-align: top;\n",
       "    }\n",
       "\n",
       "    .dataframe thead th {\n",
       "        text-align: right;\n",
       "    }\n",
       "</style>\n",
       "<table border=\"1\" class=\"dataframe\">\n",
       "  <thead>\n",
       "    <tr style=\"text-align: right;\">\n",
       "      <th></th>\n",
       "      <th>Year</th>\n",
       "      <th>Nominal GDP prices (Ksh Million)</th>\n",
       "      <th>Annual GDP growth (%)</th>\n",
       "      <th>Real GDP prices (Ksh Million)</th>\n",
       "    </tr>\n",
       "  </thead>\n",
       "  <tbody>\n",
       "    <tr>\n",
       "      <th>18</th>\n",
       "      <td>2003</td>\n",
       "      <td>1,131,783</td>\n",
       "      <td>2.9</td>\n",
       "      <td>1,055,658</td>\n",
       "    </tr>\n",
       "    <tr>\n",
       "      <th>19</th>\n",
       "      <td>2002</td>\n",
       "      <td>1,035,374</td>\n",
       "      <td>0.5</td>\n",
       "      <td>1,025,583</td>\n",
       "    </tr>\n",
       "    <tr>\n",
       "      <th>20</th>\n",
       "      <td>2001</td>\n",
       "      <td>1,020,022</td>\n",
       "      <td>3.8</td>\n",
       "      <td>1,020,111</td>\n",
       "    </tr>\n",
       "    <tr>\n",
       "      <th>21</th>\n",
       "      <td>2000</td>\n",
       "      <td>967,838</td>\n",
       "      <td>0.0</td>\n",
       "      <td>982,855</td>\n",
       "    </tr>\n",
       "    <tr>\n",
       "      <th>22</th>\n",
       "      <td>0</td>\n",
       "      <td>0</td>\n",
       "      <td>0.0</td>\n",
       "      <td>0</td>\n",
       "    </tr>\n",
       "  </tbody>\n",
       "</table>\n",
       "</div>"
      ],
      "text/plain": [
       "    Year Nominal GDP prices (Ksh Million)  Annual GDP growth (%)  \\\n",
       "18  2003                        1,131,783                    2.9   \n",
       "19  2002                        1,035,374                    0.5   \n",
       "20  2001                        1,020,022                    3.8   \n",
       "21  2000                          967,838                    0.0   \n",
       "22     0                                0                    0.0   \n",
       "\n",
       "   Real GDP prices (Ksh Million)  \n",
       "18                     1,055,658  \n",
       "19                     1,025,583  \n",
       "20                     1,020,111  \n",
       "21                       982,855  \n",
       "22                             0  "
      ]
     },
     "execution_count": 20,
     "metadata": {},
     "output_type": "execute_result"
    }
   ],
   "source": [
    "annual_gdp_data.tail()"
   ]
  },
  {
   "cell_type": "code",
   "execution_count": 21,
   "metadata": {},
   "outputs": [
    {
     "data": {
      "text/plain": [
       "(23, 4)"
      ]
     },
     "execution_count": 21,
     "metadata": {},
     "output_type": "execute_result"
    }
   ],
   "source": [
    "annual_gdp_data.shape"
   ]
  },
  {
   "cell_type": "code",
   "execution_count": 22,
   "metadata": {},
   "outputs": [
    {
     "name": "stdout",
     "output_type": "stream",
     "text": [
      "<class 'pandas.core.frame.DataFrame'>\n",
      "RangeIndex: 23 entries, 0 to 22\n",
      "Data columns (total 4 columns):\n",
      " #   Column                            Non-Null Count  Dtype  \n",
      "---  ------                            --------------  -----  \n",
      " 0   Year                              23 non-null     int64  \n",
      " 1   Nominal GDP prices (Ksh Million)  23 non-null     object \n",
      " 2   Annual GDP growth (%)             23 non-null     float64\n",
      " 3   Real GDP prices (Ksh Million)     23 non-null     object \n",
      "dtypes: float64(1), int64(1), object(2)\n",
      "memory usage: 864.0+ bytes\n"
     ]
    }
   ],
   "source": [
    "annual_gdp_data.info()"
   ]
  },
  {
   "cell_type": "code",
   "execution_count": 23,
   "metadata": {},
   "outputs": [
    {
     "data": {
      "text/html": [
       "<div>\n",
       "<style scoped>\n",
       "    .dataframe tbody tr th:only-of-type {\n",
       "        vertical-align: middle;\n",
       "    }\n",
       "\n",
       "    .dataframe tbody tr th {\n",
       "        vertical-align: top;\n",
       "    }\n",
       "\n",
       "    .dataframe thead th {\n",
       "        text-align: right;\n",
       "    }\n",
       "</style>\n",
       "<table border=\"1\" class=\"dataframe\">\n",
       "  <thead>\n",
       "    <tr style=\"text-align: right;\">\n",
       "      <th></th>\n",
       "      <th>Year</th>\n",
       "      <th>Annual GDP growth (%)</th>\n",
       "    </tr>\n",
       "  </thead>\n",
       "  <tbody>\n",
       "    <tr>\n",
       "      <th>count</th>\n",
       "      <td>23.000000</td>\n",
       "      <td>23.000000</td>\n",
       "    </tr>\n",
       "    <tr>\n",
       "      <th>mean</th>\n",
       "      <td>1923.086957</td>\n",
       "      <td>4.047826</td>\n",
       "    </tr>\n",
       "    <tr>\n",
       "      <th>std</th>\n",
       "      <td>419.266233</td>\n",
       "      <td>2.404138</td>\n",
       "    </tr>\n",
       "    <tr>\n",
       "      <th>min</th>\n",
       "      <td>0.000000</td>\n",
       "      <td>-0.300000</td>\n",
       "    </tr>\n",
       "    <tr>\n",
       "      <th>25%</th>\n",
       "      <td>2004.500000</td>\n",
       "      <td>2.800000</td>\n",
       "    </tr>\n",
       "    <tr>\n",
       "      <th>50%</th>\n",
       "      <td>2010.000000</td>\n",
       "      <td>4.600000</td>\n",
       "    </tr>\n",
       "    <tr>\n",
       "      <th>75%</th>\n",
       "      <td>2015.500000</td>\n",
       "      <td>5.350000</td>\n",
       "    </tr>\n",
       "    <tr>\n",
       "      <th>max</th>\n",
       "      <td>2021.000000</td>\n",
       "      <td>8.100000</td>\n",
       "    </tr>\n",
       "  </tbody>\n",
       "</table>\n",
       "</div>"
      ],
      "text/plain": [
       "              Year  Annual GDP growth (%)\n",
       "count    23.000000              23.000000\n",
       "mean   1923.086957               4.047826\n",
       "std     419.266233               2.404138\n",
       "min       0.000000              -0.300000\n",
       "25%    2004.500000               2.800000\n",
       "50%    2010.000000               4.600000\n",
       "75%    2015.500000               5.350000\n",
       "max    2021.000000               8.100000"
      ]
     },
     "execution_count": 23,
     "metadata": {},
     "output_type": "execute_result"
    }
   ],
   "source": [
    "annual_gdp_data.describe()"
   ]
  },
  {
   "cell_type": "markdown",
   "metadata": {},
   "source": [
    "#### 4. Forex data "
   ]
  },
  {
   "cell_type": "code",
   "execution_count": 24,
   "metadata": {},
   "outputs": [
    {
     "data": {
      "text/html": [
       "<div>\n",
       "<style scoped>\n",
       "    .dataframe tbody tr th:only-of-type {\n",
       "        vertical-align: middle;\n",
       "    }\n",
       "\n",
       "    .dataframe tbody tr th {\n",
       "        vertical-align: top;\n",
       "    }\n",
       "\n",
       "    .dataframe thead th {\n",
       "        text-align: right;\n",
       "    }\n",
       "</style>\n",
       "<table border=\"1\" class=\"dataframe\">\n",
       "  <thead>\n",
       "    <tr style=\"text-align: right;\">\n",
       "      <th></th>\n",
       "      <th>Date</th>\n",
       "      <th>Currency</th>\n",
       "      <th>Mean</th>\n",
       "      <th>Buy</th>\n",
       "      <th>Sell</th>\n",
       "    </tr>\n",
       "  </thead>\n",
       "  <tbody>\n",
       "    <tr>\n",
       "      <th>0</th>\n",
       "      <td>03/01/2006</td>\n",
       "      <td>US DOLLAR</td>\n",
       "      <td>72.4111</td>\n",
       "      <td>72.3111</td>\n",
       "      <td>72.5111</td>\n",
       "    </tr>\n",
       "    <tr>\n",
       "      <th>1</th>\n",
       "      <td>04/01/2006</td>\n",
       "      <td>US DOLLAR</td>\n",
       "      <td>72.7356</td>\n",
       "      <td>72.6356</td>\n",
       "      <td>72.8356</td>\n",
       "    </tr>\n",
       "    <tr>\n",
       "      <th>2</th>\n",
       "      <td>05/01/2006</td>\n",
       "      <td>US DOLLAR</td>\n",
       "      <td>72.9800</td>\n",
       "      <td>72.8800</td>\n",
       "      <td>73.0800</td>\n",
       "    </tr>\n",
       "    <tr>\n",
       "      <th>3</th>\n",
       "      <td>06/01/2006</td>\n",
       "      <td>US DOLLAR</td>\n",
       "      <td>73.3056</td>\n",
       "      <td>73.2056</td>\n",
       "      <td>73.4056</td>\n",
       "    </tr>\n",
       "    <tr>\n",
       "      <th>4</th>\n",
       "      <td>09/01/2006</td>\n",
       "      <td>US DOLLAR</td>\n",
       "      <td>72.8778</td>\n",
       "      <td>72.7778</td>\n",
       "      <td>72.9778</td>\n",
       "    </tr>\n",
       "  </tbody>\n",
       "</table>\n",
       "</div>"
      ],
      "text/plain": [
       "         Date   Currency     Mean      Buy     Sell\n",
       "0  03/01/2006  US DOLLAR  72.4111  72.3111  72.5111\n",
       "1  04/01/2006  US DOLLAR  72.7356  72.6356  72.8356\n",
       "2  05/01/2006  US DOLLAR  72.9800  72.8800  73.0800\n",
       "3  06/01/2006  US DOLLAR  73.3056  73.2056  73.4056\n",
       "4  09/01/2006  US DOLLAR  72.8778  72.7778  72.9778"
      ]
     },
     "execution_count": 24,
     "metadata": {},
     "output_type": "execute_result"
    }
   ],
   "source": [
    "forex_data.head()"
   ]
  },
  {
   "cell_type": "code",
   "execution_count": 25,
   "metadata": {},
   "outputs": [
    {
     "data": {
      "text/html": [
       "<div>\n",
       "<style scoped>\n",
       "    .dataframe tbody tr th:only-of-type {\n",
       "        vertical-align: middle;\n",
       "    }\n",
       "\n",
       "    .dataframe tbody tr th {\n",
       "        vertical-align: top;\n",
       "    }\n",
       "\n",
       "    .dataframe thead th {\n",
       "        text-align: right;\n",
       "    }\n",
       "</style>\n",
       "<table border=\"1\" class=\"dataframe\">\n",
       "  <thead>\n",
       "    <tr style=\"text-align: right;\">\n",
       "      <th></th>\n",
       "      <th>Date</th>\n",
       "      <th>Currency</th>\n",
       "      <th>Mean</th>\n",
       "      <th>Buy</th>\n",
       "      <th>Sell</th>\n",
       "    </tr>\n",
       "  </thead>\n",
       "  <tbody>\n",
       "    <tr>\n",
       "      <th>4330</th>\n",
       "      <td>24/03/2023</td>\n",
       "      <td>US DOLLAR</td>\n",
       "      <td>131.2735</td>\n",
       "      <td>131.1735</td>\n",
       "      <td>131.3735</td>\n",
       "    </tr>\n",
       "    <tr>\n",
       "      <th>4331</th>\n",
       "      <td>27/03/2023</td>\n",
       "      <td>US DOLLAR</td>\n",
       "      <td>131.3971</td>\n",
       "      <td>131.2971</td>\n",
       "      <td>131.4971</td>\n",
       "    </tr>\n",
       "    <tr>\n",
       "      <th>4332</th>\n",
       "      <td>28/03/2023</td>\n",
       "      <td>US DOLLAR</td>\n",
       "      <td>131.5294</td>\n",
       "      <td>131.4294</td>\n",
       "      <td>131.6294</td>\n",
       "    </tr>\n",
       "    <tr>\n",
       "      <th>4333</th>\n",
       "      <td>29/03/2023</td>\n",
       "      <td>US DOLLAR</td>\n",
       "      <td>131.7765</td>\n",
       "      <td>131.6765</td>\n",
       "      <td>131.8765</td>\n",
       "    </tr>\n",
       "    <tr>\n",
       "      <th>4334</th>\n",
       "      <td>30/03/2023</td>\n",
       "      <td>US DOLLAR</td>\n",
       "      <td>132.1265</td>\n",
       "      <td>132.0265</td>\n",
       "      <td>132.2265</td>\n",
       "    </tr>\n",
       "  </tbody>\n",
       "</table>\n",
       "</div>"
      ],
      "text/plain": [
       "            Date   Currency      Mean       Buy      Sell\n",
       "4330  24/03/2023  US DOLLAR  131.2735  131.1735  131.3735\n",
       "4331  27/03/2023  US DOLLAR  131.3971  131.2971  131.4971\n",
       "4332  28/03/2023  US DOLLAR  131.5294  131.4294  131.6294\n",
       "4333  29/03/2023  US DOLLAR  131.7765  131.6765  131.8765\n",
       "4334  30/03/2023  US DOLLAR  132.1265  132.0265  132.2265"
      ]
     },
     "execution_count": 25,
     "metadata": {},
     "output_type": "execute_result"
    }
   ],
   "source": [
    "forex_data.tail()"
   ]
  },
  {
   "cell_type": "code",
   "execution_count": 26,
   "metadata": {},
   "outputs": [
    {
     "data": {
      "text/plain": [
       "(4335, 5)"
      ]
     },
     "execution_count": 26,
     "metadata": {},
     "output_type": "execute_result"
    }
   ],
   "source": [
    "forex_data.shape"
   ]
  },
  {
   "cell_type": "code",
   "execution_count": 27,
   "metadata": {},
   "outputs": [
    {
     "name": "stdout",
     "output_type": "stream",
     "text": [
      "<class 'pandas.core.frame.DataFrame'>\n",
      "RangeIndex: 4335 entries, 0 to 4334\n",
      "Data columns (total 5 columns):\n",
      " #   Column    Non-Null Count  Dtype  \n",
      "---  ------    --------------  -----  \n",
      " 0   Date      4335 non-null   object \n",
      " 1   Currency  4335 non-null   object \n",
      " 2   Mean      4335 non-null   float64\n",
      " 3   Buy       4335 non-null   float64\n",
      " 4   Sell      4335 non-null   float64\n",
      "dtypes: float64(3), object(2)\n",
      "memory usage: 169.5+ KB\n"
     ]
    }
   ],
   "source": [
    "forex_data.info()"
   ]
  },
  {
   "cell_type": "code",
   "execution_count": 28,
   "metadata": {},
   "outputs": [
    {
     "data": {
      "text/html": [
       "<div>\n",
       "<style scoped>\n",
       "    .dataframe tbody tr th:only-of-type {\n",
       "        vertical-align: middle;\n",
       "    }\n",
       "\n",
       "    .dataframe tbody tr th {\n",
       "        vertical-align: top;\n",
       "    }\n",
       "\n",
       "    .dataframe thead th {\n",
       "        text-align: right;\n",
       "    }\n",
       "</style>\n",
       "<table border=\"1\" class=\"dataframe\">\n",
       "  <thead>\n",
       "    <tr style=\"text-align: right;\">\n",
       "      <th></th>\n",
       "      <th>Mean</th>\n",
       "      <th>Buy</th>\n",
       "      <th>Sell</th>\n",
       "    </tr>\n",
       "  </thead>\n",
       "  <tbody>\n",
       "    <tr>\n",
       "      <th>count</th>\n",
       "      <td>4335.000000</td>\n",
       "      <td>4335.000000</td>\n",
       "      <td>4335.000000</td>\n",
       "    </tr>\n",
       "    <tr>\n",
       "      <th>mean</th>\n",
       "      <td>91.956527</td>\n",
       "      <td>91.862898</td>\n",
       "      <td>92.050223</td>\n",
       "    </tr>\n",
       "    <tr>\n",
       "      <th>std</th>\n",
       "      <td>15.334699</td>\n",
       "      <td>15.326446</td>\n",
       "      <td>15.343025</td>\n",
       "    </tr>\n",
       "    <tr>\n",
       "      <th>min</th>\n",
       "      <td>61.510600</td>\n",
       "      <td>61.438900</td>\n",
       "      <td>61.582200</td>\n",
       "    </tr>\n",
       "    <tr>\n",
       "      <th>25%</th>\n",
       "      <td>80.114700</td>\n",
       "      <td>80.045550</td>\n",
       "      <td>80.185000</td>\n",
       "    </tr>\n",
       "    <tr>\n",
       "      <th>50%</th>\n",
       "      <td>90.733300</td>\n",
       "      <td>90.625000</td>\n",
       "      <td>90.877800</td>\n",
       "    </tr>\n",
       "    <tr>\n",
       "      <th>75%</th>\n",
       "      <td>103.121150</td>\n",
       "      <td>103.021150</td>\n",
       "      <td>103.221150</td>\n",
       "    </tr>\n",
       "    <tr>\n",
       "      <th>max</th>\n",
       "      <td>132.126500</td>\n",
       "      <td>132.026500</td>\n",
       "      <td>132.226500</td>\n",
       "    </tr>\n",
       "  </tbody>\n",
       "</table>\n",
       "</div>"
      ],
      "text/plain": [
       "              Mean          Buy         Sell\n",
       "count  4335.000000  4335.000000  4335.000000\n",
       "mean     91.956527    91.862898    92.050223\n",
       "std      15.334699    15.326446    15.343025\n",
       "min      61.510600    61.438900    61.582200\n",
       "25%      80.114700    80.045550    80.185000\n",
       "50%      90.733300    90.625000    90.877800\n",
       "75%     103.121150   103.021150   103.221150\n",
       "max     132.126500   132.026500   132.226500"
      ]
     },
     "execution_count": 28,
     "metadata": {},
     "output_type": "execute_result"
    }
   ],
   "source": [
    "forex_data.describe()"
   ]
  },
  {
   "cell_type": "markdown",
   "metadata": {},
   "source": [
    "# 3. DATA PREPARATION  "
   ]
  },
  {
   "cell_type": "markdown",
   "metadata": {},
   "source": [
    "---"
   ]
  },
  {
   "cell_type": "code",
   "execution_count": 29,
   "metadata": {},
   "outputs": [
    {
     "data": {
      "text/plain": [
       "date                                   0\n",
       "price of bread (400g)                  1\n",
       "Refined Vegetable oil (1L)             4\n",
       "Cows Milk(Fresh,Pasteurized) -500ML    4\n",
       " Diesel (1L)                           4\n",
       "Maize meal(2kg)                        6\n",
       "Gasoline (1L)                          4\n",
       "dtype: int64"
      ]
     },
     "execution_count": 29,
     "metadata": {},
     "output_type": "execute_result"
    }
   ],
   "source": [
    "### Dealing with missing values \n",
    "\n",
    "commodity_data.isna().sum()"
   ]
  },
  {
   "cell_type": "code",
   "execution_count": 30,
   "metadata": {},
   "outputs": [],
   "source": [
    "# Price of bread \n",
    "commodity_data = commodity_data.fillna(method='ffill')"
   ]
  },
  {
   "cell_type": "code",
   "execution_count": 31,
   "metadata": {},
   "outputs": [
    {
     "data": {
      "text/html": [
       "<div>\n",
       "<style scoped>\n",
       "    .dataframe tbody tr th:only-of-type {\n",
       "        vertical-align: middle;\n",
       "    }\n",
       "\n",
       "    .dataframe tbody tr th {\n",
       "        vertical-align: top;\n",
       "    }\n",
       "\n",
       "    .dataframe thead th {\n",
       "        text-align: right;\n",
       "    }\n",
       "</style>\n",
       "<table border=\"1\" class=\"dataframe\">\n",
       "  <thead>\n",
       "    <tr style=\"text-align: right;\">\n",
       "      <th></th>\n",
       "      <th>Year</th>\n",
       "      <th>Month</th>\n",
       "      <th>Annual Average Inflation</th>\n",
       "      <th>12-Month Inflation</th>\n",
       "    </tr>\n",
       "  </thead>\n",
       "  <tbody>\n",
       "    <tr>\n",
       "      <th>0</th>\n",
       "      <td>2023</td>\n",
       "      <td>February</td>\n",
       "      <td>8.30</td>\n",
       "      <td>9.23</td>\n",
       "    </tr>\n",
       "    <tr>\n",
       "      <th>1</th>\n",
       "      <td>2023</td>\n",
       "      <td>January</td>\n",
       "      <td>7.95</td>\n",
       "      <td>8.98</td>\n",
       "    </tr>\n",
       "    <tr>\n",
       "      <th>2</th>\n",
       "      <td>2022</td>\n",
       "      <td>December</td>\n",
       "      <td>7.66</td>\n",
       "      <td>9.06</td>\n",
       "    </tr>\n",
       "    <tr>\n",
       "      <th>3</th>\n",
       "      <td>2022</td>\n",
       "      <td>November</td>\n",
       "      <td>7.38</td>\n",
       "      <td>9.48</td>\n",
       "    </tr>\n",
       "    <tr>\n",
       "      <th>4</th>\n",
       "      <td>2022</td>\n",
       "      <td>October</td>\n",
       "      <td>7.48</td>\n",
       "      <td>9.59</td>\n",
       "    </tr>\n",
       "  </tbody>\n",
       "</table>\n",
       "</div>"
      ],
      "text/plain": [
       "   Year     Month  Annual Average Inflation  12-Month Inflation\n",
       "0  2023  February                      8.30                9.23\n",
       "1  2023   January                      7.95                8.98\n",
       "2  2022  December                      7.66                9.06\n",
       "3  2022  November                      7.38                9.48\n",
       "4  2022   October                      7.48                9.59"
      ]
     },
     "execution_count": 31,
     "metadata": {},
     "output_type": "execute_result"
    }
   ],
   "source": [
    "inflation_data.head()"
   ]
  },
  {
   "cell_type": "code",
   "execution_count": 32,
   "metadata": {},
   "outputs": [
    {
     "data": {
      "text/html": [
       "<div>\n",
       "<style scoped>\n",
       "    .dataframe tbody tr th:only-of-type {\n",
       "        vertical-align: middle;\n",
       "    }\n",
       "\n",
       "    .dataframe tbody tr th {\n",
       "        vertical-align: top;\n",
       "    }\n",
       "\n",
       "    .dataframe thead th {\n",
       "        text-align: right;\n",
       "    }\n",
       "</style>\n",
       "<table border=\"1\" class=\"dataframe\">\n",
       "  <thead>\n",
       "    <tr style=\"text-align: right;\">\n",
       "      <th></th>\n",
       "      <th>Annual Average Inflation</th>\n",
       "      <th>12-Month Inflation</th>\n",
       "      <th>date</th>\n",
       "    </tr>\n",
       "  </thead>\n",
       "  <tbody>\n",
       "    <tr>\n",
       "      <th>0</th>\n",
       "      <td>8.30</td>\n",
       "      <td>9.23</td>\n",
       "      <td>2023-02-28</td>\n",
       "    </tr>\n",
       "    <tr>\n",
       "      <th>1</th>\n",
       "      <td>7.95</td>\n",
       "      <td>8.98</td>\n",
       "      <td>2023-01-31</td>\n",
       "    </tr>\n",
       "    <tr>\n",
       "      <th>2</th>\n",
       "      <td>7.66</td>\n",
       "      <td>9.06</td>\n",
       "      <td>2022-12-31</td>\n",
       "    </tr>\n",
       "    <tr>\n",
       "      <th>3</th>\n",
       "      <td>7.38</td>\n",
       "      <td>9.48</td>\n",
       "      <td>2022-11-30</td>\n",
       "    </tr>\n",
       "    <tr>\n",
       "      <th>4</th>\n",
       "      <td>7.48</td>\n",
       "      <td>9.59</td>\n",
       "      <td>2022-10-31</td>\n",
       "    </tr>\n",
       "  </tbody>\n",
       "</table>\n",
       "</div>"
      ],
      "text/plain": [
       "   Annual Average Inflation  12-Month Inflation       date\n",
       "0                      8.30                9.23 2023-02-28\n",
       "1                      7.95                8.98 2023-01-31\n",
       "2                      7.66                9.06 2022-12-31\n",
       "3                      7.38                9.48 2022-11-30\n",
       "4                      7.48                9.59 2022-10-31"
      ]
     },
     "execution_count": 32,
     "metadata": {},
     "output_type": "execute_result"
    }
   ],
   "source": [
    "# convert year and month columns to datetime format\n",
    "inflation_data['date'] = pd.to_datetime(inflation_data['Year'].astype(str) + '-' + inflation_data['Month'].astype(str), format='%Y-%B')\n",
    "\n",
    "# set day of the month as the last day of the month\n",
    "inflation_data['date'] = inflation_data['date'] + pd.offsets.MonthEnd(0)\n",
    "\n",
    "# drop the original year and month columns\n",
    "inflation_data.drop(['Year', 'Month'], axis=1, inplace=True)\n",
    "\n",
    "# print the resulting DataFrame\n",
    "inflation_data.head()"
   ]
  },
  {
   "cell_type": "code",
   "execution_count": 33,
   "metadata": {},
   "outputs": [
    {
     "data": {
      "text/plain": [
       "Annual Average Inflation    0\n",
       "12-Month Inflation          0\n",
       "date                        0\n",
       "dtype: int64"
      ]
     },
     "execution_count": 33,
     "metadata": {},
     "output_type": "execute_result"
    }
   ],
   "source": [
    "inflation_data.isna().sum()"
   ]
  },
  {
   "cell_type": "code",
   "execution_count": 34,
   "metadata": {},
   "outputs": [
    {
     "data": {
      "text/plain": [
       "(207, 3)"
      ]
     },
     "execution_count": 34,
     "metadata": {},
     "output_type": "execute_result"
    }
   ],
   "source": [
    "inflation_data.shape"
   ]
  },
  {
   "cell_type": "code",
   "execution_count": 35,
   "metadata": {},
   "outputs": [
    {
     "data": {
      "text/plain": [
       "(207, 7)"
      ]
     },
     "execution_count": 35,
     "metadata": {},
     "output_type": "execute_result"
    }
   ],
   "source": [
    "commodity_data.shape"
   ]
  },
  {
   "cell_type": "code",
   "execution_count": 36,
   "metadata": {},
   "outputs": [
    {
     "data": {
      "text/plain": [
       "Index(['date', 'price of bread (400g)', 'Refined Vegetable oil (1L)',\n",
       "       'Cows Milk(Fresh,Pasteurized) -500ML', ' Diesel (1L)',\n",
       "       'Maize meal(2kg)', 'Gasoline (1L)'],\n",
       "      dtype='object')"
      ]
     },
     "execution_count": 36,
     "metadata": {},
     "output_type": "execute_result"
    }
   ],
   "source": [
    "commodity_data = commodity_data.rename(columns={'date ':'date'})\n",
    "commodity_data.columns"
   ]
  },
  {
   "cell_type": "code",
   "execution_count": 37,
   "metadata": {},
   "outputs": [
    {
     "data": {
      "text/html": [
       "<div>\n",
       "<style scoped>\n",
       "    .dataframe tbody tr th:only-of-type {\n",
       "        vertical-align: middle;\n",
       "    }\n",
       "\n",
       "    .dataframe tbody tr th {\n",
       "        vertical-align: top;\n",
       "    }\n",
       "\n",
       "    .dataframe thead th {\n",
       "        text-align: right;\n",
       "    }\n",
       "</style>\n",
       "<table border=\"1\" class=\"dataframe\">\n",
       "  <thead>\n",
       "    <tr style=\"text-align: right;\">\n",
       "      <th></th>\n",
       "      <th>date</th>\n",
       "      <th>price of bread (400g)</th>\n",
       "      <th>Refined Vegetable oil (1L)</th>\n",
       "      <th>Cows Milk(Fresh,Pasteurized) -500ML</th>\n",
       "      <th>Diesel (1L)</th>\n",
       "      <th>Maize meal(2kg)</th>\n",
       "      <th>Gasoline (1L)</th>\n",
       "    </tr>\n",
       "  </thead>\n",
       "  <tbody>\n",
       "    <tr>\n",
       "      <th>0</th>\n",
       "      <td>2006-01-31</td>\n",
       "      <td>26.0</td>\n",
       "      <td>115.0</td>\n",
       "      <td>22.0</td>\n",
       "      <td>65.99</td>\n",
       "      <td>50.693333</td>\n",
       "      <td>75.99</td>\n",
       "    </tr>\n",
       "    <tr>\n",
       "      <th>1</th>\n",
       "      <td>2006-02-28</td>\n",
       "      <td>26.0</td>\n",
       "      <td>120.0</td>\n",
       "      <td>25.0</td>\n",
       "      <td>64.99</td>\n",
       "      <td>52.573333</td>\n",
       "      <td>74.99</td>\n",
       "    </tr>\n",
       "    <tr>\n",
       "      <th>2</th>\n",
       "      <td>2006-03-31</td>\n",
       "      <td>26.0</td>\n",
       "      <td>108.0</td>\n",
       "      <td>25.0</td>\n",
       "      <td>65.99</td>\n",
       "      <td>52.480000</td>\n",
       "      <td>75.99</td>\n",
       "    </tr>\n",
       "    <tr>\n",
       "      <th>3</th>\n",
       "      <td>2006-04-30</td>\n",
       "      <td>26.0</td>\n",
       "      <td>110.0</td>\n",
       "      <td>25.0</td>\n",
       "      <td>66.64</td>\n",
       "      <td>53.613333</td>\n",
       "      <td>76.64</td>\n",
       "    </tr>\n",
       "    <tr>\n",
       "      <th>4</th>\n",
       "      <td>2006-05-31</td>\n",
       "      <td>26.0</td>\n",
       "      <td>120.0</td>\n",
       "      <td>25.0</td>\n",
       "      <td>67.89</td>\n",
       "      <td>55.906667</td>\n",
       "      <td>77.89</td>\n",
       "    </tr>\n",
       "  </tbody>\n",
       "</table>\n",
       "</div>"
      ],
      "text/plain": [
       "        date  price of bread (400g)  Refined Vegetable oil (1L)  \\\n",
       "0 2006-01-31                   26.0                       115.0   \n",
       "1 2006-02-28                   26.0                       120.0   \n",
       "2 2006-03-31                   26.0                       108.0   \n",
       "3 2006-04-30                   26.0                       110.0   \n",
       "4 2006-05-31                   26.0                       120.0   \n",
       "\n",
       "   Cows Milk(Fresh,Pasteurized) -500ML   Diesel (1L)  Maize meal(2kg)  \\\n",
       "0                                 22.0         65.99        50.693333   \n",
       "1                                 25.0         64.99        52.573333   \n",
       "2                                 25.0         65.99        52.480000   \n",
       "3                                 25.0         66.64        53.613333   \n",
       "4                                 25.0         67.89        55.906667   \n",
       "\n",
       "   Gasoline (1L)  \n",
       "0          75.99  \n",
       "1          74.99  \n",
       "2          75.99  \n",
       "3          76.64  \n",
       "4          77.89  "
      ]
     },
     "execution_count": 37,
     "metadata": {},
     "output_type": "execute_result"
    }
   ],
   "source": [
    "commodity_data.head()"
   ]
  },
  {
   "cell_type": "code",
   "execution_count": 38,
   "metadata": {
    "scrolled": true
   },
   "outputs": [
    {
     "data": {
      "text/html": [
       "<div>\n",
       "<style scoped>\n",
       "    .dataframe tbody tr th:only-of-type {\n",
       "        vertical-align: middle;\n",
       "    }\n",
       "\n",
       "    .dataframe tbody tr th {\n",
       "        vertical-align: top;\n",
       "    }\n",
       "\n",
       "    .dataframe thead th {\n",
       "        text-align: right;\n",
       "    }\n",
       "</style>\n",
       "<table border=\"1\" class=\"dataframe\">\n",
       "  <thead>\n",
       "    <tr style=\"text-align: right;\">\n",
       "      <th></th>\n",
       "      <th>Annual Average Inflation</th>\n",
       "      <th>12-Month Inflation</th>\n",
       "      <th>date</th>\n",
       "    </tr>\n",
       "  </thead>\n",
       "  <tbody>\n",
       "    <tr>\n",
       "      <th>202</th>\n",
       "      <td>6.95</td>\n",
       "      <td>4.47</td>\n",
       "      <td>2006-05-31</td>\n",
       "    </tr>\n",
       "    <tr>\n",
       "      <th>203</th>\n",
       "      <td>7.77</td>\n",
       "      <td>5.44</td>\n",
       "      <td>2006-04-30</td>\n",
       "    </tr>\n",
       "    <tr>\n",
       "      <th>204</th>\n",
       "      <td>8.61</td>\n",
       "      <td>8.85</td>\n",
       "      <td>2006-03-31</td>\n",
       "    </tr>\n",
       "    <tr>\n",
       "      <th>205</th>\n",
       "      <td>9.01</td>\n",
       "      <td>9.39</td>\n",
       "      <td>2006-02-28</td>\n",
       "    </tr>\n",
       "    <tr>\n",
       "      <th>206</th>\n",
       "      <td>9.36</td>\n",
       "      <td>8.39</td>\n",
       "      <td>2006-01-31</td>\n",
       "    </tr>\n",
       "  </tbody>\n",
       "</table>\n",
       "</div>"
      ],
      "text/plain": [
       "     Annual Average Inflation  12-Month Inflation       date\n",
       "202                      6.95                4.47 2006-05-31\n",
       "203                      7.77                5.44 2006-04-30\n",
       "204                      8.61                8.85 2006-03-31\n",
       "205                      9.01                9.39 2006-02-28\n",
       "206                      9.36                8.39 2006-01-31"
      ]
     },
     "execution_count": 38,
     "metadata": {},
     "output_type": "execute_result"
    }
   ],
   "source": [
    "inflation_data.tail()"
   ]
  },
  {
   "cell_type": "code",
   "execution_count": 39,
   "metadata": {},
   "outputs": [
    {
     "data": {
      "text/html": [
       "<div>\n",
       "<style scoped>\n",
       "    .dataframe tbody tr th:only-of-type {\n",
       "        vertical-align: middle;\n",
       "    }\n",
       "\n",
       "    .dataframe tbody tr th {\n",
       "        vertical-align: top;\n",
       "    }\n",
       "\n",
       "    .dataframe thead th {\n",
       "        text-align: right;\n",
       "    }\n",
       "</style>\n",
       "<table border=\"1\" class=\"dataframe\">\n",
       "  <thead>\n",
       "    <tr style=\"text-align: right;\">\n",
       "      <th></th>\n",
       "      <th>Annual Average Inflation</th>\n",
       "      <th>12-Month Inflation</th>\n",
       "      <th>date</th>\n",
       "    </tr>\n",
       "  </thead>\n",
       "  <tbody>\n",
       "    <tr>\n",
       "      <th>0</th>\n",
       "      <td>8.30</td>\n",
       "      <td>9.23</td>\n",
       "      <td>2023-02-28</td>\n",
       "    </tr>\n",
       "    <tr>\n",
       "      <th>1</th>\n",
       "      <td>7.95</td>\n",
       "      <td>8.98</td>\n",
       "      <td>2023-01-31</td>\n",
       "    </tr>\n",
       "    <tr>\n",
       "      <th>2</th>\n",
       "      <td>7.66</td>\n",
       "      <td>9.06</td>\n",
       "      <td>2022-12-31</td>\n",
       "    </tr>\n",
       "    <tr>\n",
       "      <th>3</th>\n",
       "      <td>7.38</td>\n",
       "      <td>9.48</td>\n",
       "      <td>2022-11-30</td>\n",
       "    </tr>\n",
       "    <tr>\n",
       "      <th>4</th>\n",
       "      <td>7.48</td>\n",
       "      <td>9.59</td>\n",
       "      <td>2022-10-31</td>\n",
       "    </tr>\n",
       "  </tbody>\n",
       "</table>\n",
       "</div>"
      ],
      "text/plain": [
       "   Annual Average Inflation  12-Month Inflation       date\n",
       "0                      8.30                9.23 2023-02-28\n",
       "1                      7.95                8.98 2023-01-31\n",
       "2                      7.66                9.06 2022-12-31\n",
       "3                      7.38                9.48 2022-11-30\n",
       "4                      7.48                9.59 2022-10-31"
      ]
     },
     "execution_count": 39,
     "metadata": {},
     "output_type": "execute_result"
    }
   ],
   "source": [
    "inflation_data.head()"
   ]
  },
  {
   "cell_type": "code",
   "execution_count": 40,
   "metadata": {},
   "outputs": [
    {
     "data": {
      "text/html": [
       "<div>\n",
       "<style scoped>\n",
       "    .dataframe tbody tr th:only-of-type {\n",
       "        vertical-align: middle;\n",
       "    }\n",
       "\n",
       "    .dataframe tbody tr th {\n",
       "        vertical-align: top;\n",
       "    }\n",
       "\n",
       "    .dataframe thead th {\n",
       "        text-align: right;\n",
       "    }\n",
       "</style>\n",
       "<table border=\"1\" class=\"dataframe\">\n",
       "  <thead>\n",
       "    <tr style=\"text-align: right;\">\n",
       "      <th></th>\n",
       "      <th>Annual Average Inflation</th>\n",
       "      <th>12-Month Inflation</th>\n",
       "      <th>date</th>\n",
       "    </tr>\n",
       "  </thead>\n",
       "  <tbody>\n",
       "    <tr>\n",
       "      <th>206</th>\n",
       "      <td>9.36</td>\n",
       "      <td>8.39</td>\n",
       "      <td>2006-01-31</td>\n",
       "    </tr>\n",
       "    <tr>\n",
       "      <th>205</th>\n",
       "      <td>9.01</td>\n",
       "      <td>9.39</td>\n",
       "      <td>2006-02-28</td>\n",
       "    </tr>\n",
       "    <tr>\n",
       "      <th>204</th>\n",
       "      <td>8.61</td>\n",
       "      <td>8.85</td>\n",
       "      <td>2006-03-31</td>\n",
       "    </tr>\n",
       "    <tr>\n",
       "      <th>203</th>\n",
       "      <td>7.77</td>\n",
       "      <td>5.44</td>\n",
       "      <td>2006-04-30</td>\n",
       "    </tr>\n",
       "    <tr>\n",
       "      <th>202</th>\n",
       "      <td>6.95</td>\n",
       "      <td>4.47</td>\n",
       "      <td>2006-05-31</td>\n",
       "    </tr>\n",
       "  </tbody>\n",
       "</table>\n",
       "</div>"
      ],
      "text/plain": [
       "     Annual Average Inflation  12-Month Inflation       date\n",
       "206                      9.36                8.39 2006-01-31\n",
       "205                      9.01                9.39 2006-02-28\n",
       "204                      8.61                8.85 2006-03-31\n",
       "203                      7.77                5.44 2006-04-30\n",
       "202                      6.95                4.47 2006-05-31"
      ]
     },
     "execution_count": 40,
     "metadata": {},
     "output_type": "execute_result"
    }
   ],
   "source": [
    "inflation_data = inflation_data.sort_values('date')\n",
    "inflation_data.head()"
   ]
  },
  {
   "cell_type": "code",
   "execution_count": 41,
   "metadata": {},
   "outputs": [],
   "source": [
    "commodity_data.set_index('date', inplace=True)"
   ]
  },
  {
   "cell_type": "code",
   "execution_count": 42,
   "metadata": {},
   "outputs": [
    {
     "data": {
      "text/html": [
       "<div>\n",
       "<style scoped>\n",
       "    .dataframe tbody tr th:only-of-type {\n",
       "        vertical-align: middle;\n",
       "    }\n",
       "\n",
       "    .dataframe tbody tr th {\n",
       "        vertical-align: top;\n",
       "    }\n",
       "\n",
       "    .dataframe thead th {\n",
       "        text-align: right;\n",
       "    }\n",
       "</style>\n",
       "<table border=\"1\" class=\"dataframe\">\n",
       "  <thead>\n",
       "    <tr style=\"text-align: right;\">\n",
       "      <th></th>\n",
       "      <th>price of bread (400g)</th>\n",
       "      <th>Refined Vegetable oil (1L)</th>\n",
       "      <th>Cows Milk(Fresh,Pasteurized) -500ML</th>\n",
       "      <th>Diesel (1L)</th>\n",
       "      <th>Maize meal(2kg)</th>\n",
       "      <th>Gasoline (1L)</th>\n",
       "    </tr>\n",
       "    <tr>\n",
       "      <th>date</th>\n",
       "      <th></th>\n",
       "      <th></th>\n",
       "      <th></th>\n",
       "      <th></th>\n",
       "      <th></th>\n",
       "      <th></th>\n",
       "    </tr>\n",
       "  </thead>\n",
       "  <tbody>\n",
       "    <tr>\n",
       "      <th>2006-01-31</th>\n",
       "      <td>26.0</td>\n",
       "      <td>115.0</td>\n",
       "      <td>22.0</td>\n",
       "      <td>65.99</td>\n",
       "      <td>50.693333</td>\n",
       "      <td>75.99</td>\n",
       "    </tr>\n",
       "    <tr>\n",
       "      <th>2006-02-28</th>\n",
       "      <td>26.0</td>\n",
       "      <td>120.0</td>\n",
       "      <td>25.0</td>\n",
       "      <td>64.99</td>\n",
       "      <td>52.573333</td>\n",
       "      <td>74.99</td>\n",
       "    </tr>\n",
       "    <tr>\n",
       "      <th>2006-03-31</th>\n",
       "      <td>26.0</td>\n",
       "      <td>108.0</td>\n",
       "      <td>25.0</td>\n",
       "      <td>65.99</td>\n",
       "      <td>52.480000</td>\n",
       "      <td>75.99</td>\n",
       "    </tr>\n",
       "    <tr>\n",
       "      <th>2006-04-30</th>\n",
       "      <td>26.0</td>\n",
       "      <td>110.0</td>\n",
       "      <td>25.0</td>\n",
       "      <td>66.64</td>\n",
       "      <td>53.613333</td>\n",
       "      <td>76.64</td>\n",
       "    </tr>\n",
       "    <tr>\n",
       "      <th>2006-05-31</th>\n",
       "      <td>26.0</td>\n",
       "      <td>120.0</td>\n",
       "      <td>25.0</td>\n",
       "      <td>67.89</td>\n",
       "      <td>55.906667</td>\n",
       "      <td>77.89</td>\n",
       "    </tr>\n",
       "  </tbody>\n",
       "</table>\n",
       "</div>"
      ],
      "text/plain": [
       "            price of bread (400g)  Refined Vegetable oil (1L)  \\\n",
       "date                                                            \n",
       "2006-01-31                   26.0                       115.0   \n",
       "2006-02-28                   26.0                       120.0   \n",
       "2006-03-31                   26.0                       108.0   \n",
       "2006-04-30                   26.0                       110.0   \n",
       "2006-05-31                   26.0                       120.0   \n",
       "\n",
       "            Cows Milk(Fresh,Pasteurized) -500ML   Diesel (1L)  \\\n",
       "date                                                            \n",
       "2006-01-31                                 22.0         65.99   \n",
       "2006-02-28                                 25.0         64.99   \n",
       "2006-03-31                                 25.0         65.99   \n",
       "2006-04-30                                 25.0         66.64   \n",
       "2006-05-31                                 25.0         67.89   \n",
       "\n",
       "            Maize meal(2kg)  Gasoline (1L)  \n",
       "date                                        \n",
       "2006-01-31        50.693333          75.99  \n",
       "2006-02-28        52.573333          74.99  \n",
       "2006-03-31        52.480000          75.99  \n",
       "2006-04-30        53.613333          76.64  \n",
       "2006-05-31        55.906667          77.89  "
      ]
     },
     "execution_count": 42,
     "metadata": {},
     "output_type": "execute_result"
    }
   ],
   "source": [
    "commodity_data.head()"
   ]
  },
  {
   "cell_type": "code",
   "execution_count": 43,
   "metadata": {},
   "outputs": [
    {
     "data": {
      "text/html": [
       "<div>\n",
       "<style scoped>\n",
       "    .dataframe tbody tr th:only-of-type {\n",
       "        vertical-align: middle;\n",
       "    }\n",
       "\n",
       "    .dataframe tbody tr th {\n",
       "        vertical-align: top;\n",
       "    }\n",
       "\n",
       "    .dataframe thead th {\n",
       "        text-align: right;\n",
       "    }\n",
       "</style>\n",
       "<table border=\"1\" class=\"dataframe\">\n",
       "  <thead>\n",
       "    <tr style=\"text-align: right;\">\n",
       "      <th></th>\n",
       "      <th>Annual Average Inflation</th>\n",
       "      <th>12-Month Inflation</th>\n",
       "      <th>date</th>\n",
       "    </tr>\n",
       "  </thead>\n",
       "  <tbody>\n",
       "    <tr>\n",
       "      <th>206</th>\n",
       "      <td>9.36</td>\n",
       "      <td>8.39</td>\n",
       "      <td>2006-01-31</td>\n",
       "    </tr>\n",
       "    <tr>\n",
       "      <th>205</th>\n",
       "      <td>9.01</td>\n",
       "      <td>9.39</td>\n",
       "      <td>2006-02-28</td>\n",
       "    </tr>\n",
       "    <tr>\n",
       "      <th>204</th>\n",
       "      <td>8.61</td>\n",
       "      <td>8.85</td>\n",
       "      <td>2006-03-31</td>\n",
       "    </tr>\n",
       "    <tr>\n",
       "      <th>203</th>\n",
       "      <td>7.77</td>\n",
       "      <td>5.44</td>\n",
       "      <td>2006-04-30</td>\n",
       "    </tr>\n",
       "    <tr>\n",
       "      <th>202</th>\n",
       "      <td>6.95</td>\n",
       "      <td>4.47</td>\n",
       "      <td>2006-05-31</td>\n",
       "    </tr>\n",
       "  </tbody>\n",
       "</table>\n",
       "</div>"
      ],
      "text/plain": [
       "     Annual Average Inflation  12-Month Inflation       date\n",
       "206                      9.36                8.39 2006-01-31\n",
       "205                      9.01                9.39 2006-02-28\n",
       "204                      8.61                8.85 2006-03-31\n",
       "203                      7.77                5.44 2006-04-30\n",
       "202                      6.95                4.47 2006-05-31"
      ]
     },
     "execution_count": 43,
     "metadata": {},
     "output_type": "execute_result"
    }
   ],
   "source": [
    "inflation_data.head()"
   ]
  },
  {
   "cell_type": "code",
   "execution_count": 44,
   "metadata": {},
   "outputs": [],
   "source": [
    "time_series_data = pd.merge(commodity_data, inflation_data, on='date')"
   ]
  },
  {
   "cell_type": "code",
   "execution_count": 45,
   "metadata": {},
   "outputs": [
    {
     "data": {
      "text/html": [
       "<div>\n",
       "<style scoped>\n",
       "    .dataframe tbody tr th:only-of-type {\n",
       "        vertical-align: middle;\n",
       "    }\n",
       "\n",
       "    .dataframe tbody tr th {\n",
       "        vertical-align: top;\n",
       "    }\n",
       "\n",
       "    .dataframe thead th {\n",
       "        text-align: right;\n",
       "    }\n",
       "</style>\n",
       "<table border=\"1\" class=\"dataframe\">\n",
       "  <thead>\n",
       "    <tr style=\"text-align: right;\">\n",
       "      <th></th>\n",
       "      <th>date</th>\n",
       "      <th>price of bread (400g)</th>\n",
       "      <th>Refined Vegetable oil (1L)</th>\n",
       "      <th>Cows Milk(Fresh,Pasteurized) -500ML</th>\n",
       "      <th>Diesel (1L)</th>\n",
       "      <th>Maize meal(2kg)</th>\n",
       "      <th>Gasoline (1L)</th>\n",
       "      <th>Annual Average Inflation</th>\n",
       "      <th>12-Month Inflation</th>\n",
       "    </tr>\n",
       "  </thead>\n",
       "  <tbody>\n",
       "    <tr>\n",
       "      <th>0</th>\n",
       "      <td>2006-01-31</td>\n",
       "      <td>26.0</td>\n",
       "      <td>115.0</td>\n",
       "      <td>22.0</td>\n",
       "      <td>65.99</td>\n",
       "      <td>50.693333</td>\n",
       "      <td>75.99</td>\n",
       "      <td>9.36</td>\n",
       "      <td>8.39</td>\n",
       "    </tr>\n",
       "    <tr>\n",
       "      <th>1</th>\n",
       "      <td>2006-02-28</td>\n",
       "      <td>26.0</td>\n",
       "      <td>120.0</td>\n",
       "      <td>25.0</td>\n",
       "      <td>64.99</td>\n",
       "      <td>52.573333</td>\n",
       "      <td>74.99</td>\n",
       "      <td>9.01</td>\n",
       "      <td>9.39</td>\n",
       "    </tr>\n",
       "    <tr>\n",
       "      <th>2</th>\n",
       "      <td>2006-03-31</td>\n",
       "      <td>26.0</td>\n",
       "      <td>108.0</td>\n",
       "      <td>25.0</td>\n",
       "      <td>65.99</td>\n",
       "      <td>52.480000</td>\n",
       "      <td>75.99</td>\n",
       "      <td>8.61</td>\n",
       "      <td>8.85</td>\n",
       "    </tr>\n",
       "    <tr>\n",
       "      <th>3</th>\n",
       "      <td>2006-04-30</td>\n",
       "      <td>26.0</td>\n",
       "      <td>110.0</td>\n",
       "      <td>25.0</td>\n",
       "      <td>66.64</td>\n",
       "      <td>53.613333</td>\n",
       "      <td>76.64</td>\n",
       "      <td>7.77</td>\n",
       "      <td>5.44</td>\n",
       "    </tr>\n",
       "    <tr>\n",
       "      <th>4</th>\n",
       "      <td>2006-05-31</td>\n",
       "      <td>26.0</td>\n",
       "      <td>120.0</td>\n",
       "      <td>25.0</td>\n",
       "      <td>67.89</td>\n",
       "      <td>55.906667</td>\n",
       "      <td>77.89</td>\n",
       "      <td>6.95</td>\n",
       "      <td>4.47</td>\n",
       "    </tr>\n",
       "  </tbody>\n",
       "</table>\n",
       "</div>"
      ],
      "text/plain": [
       "        date  price of bread (400g)  Refined Vegetable oil (1L)  \\\n",
       "0 2006-01-31                   26.0                       115.0   \n",
       "1 2006-02-28                   26.0                       120.0   \n",
       "2 2006-03-31                   26.0                       108.0   \n",
       "3 2006-04-30                   26.0                       110.0   \n",
       "4 2006-05-31                   26.0                       120.0   \n",
       "\n",
       "   Cows Milk(Fresh,Pasteurized) -500ML   Diesel (1L)  Maize meal(2kg)  \\\n",
       "0                                 22.0         65.99        50.693333   \n",
       "1                                 25.0         64.99        52.573333   \n",
       "2                                 25.0         65.99        52.480000   \n",
       "3                                 25.0         66.64        53.613333   \n",
       "4                                 25.0         67.89        55.906667   \n",
       "\n",
       "   Gasoline (1L)  Annual Average Inflation  12-Month Inflation  \n",
       "0          75.99                      9.36                8.39  \n",
       "1          74.99                      9.01                9.39  \n",
       "2          75.99                      8.61                8.85  \n",
       "3          76.64                      7.77                5.44  \n",
       "4          77.89                      6.95                4.47  "
      ]
     },
     "execution_count": 45,
     "metadata": {},
     "output_type": "execute_result"
    }
   ],
   "source": [
    "time_series_data.head()"
   ]
  },
  {
   "cell_type": "code",
   "execution_count": 46,
   "metadata": {},
   "outputs": [],
   "source": [
    "\n",
    "forex_data['date'] = pd.to_datetime(forex_data['Date'], format='%d/%m/%Y')\n",
    "forex_data.drop(\"Date\", axis=1, inplace=True)\n",
    "forex_data.set_index(\"date\", inplace=True)\n",
    "#time_series_data = pd.merge(time_series_data, forex_data, on='date')"
   ]
  },
  {
   "cell_type": "code",
   "execution_count": 47,
   "metadata": {},
   "outputs": [],
   "source": [
    "# assume forex_data is a DataFrame with a DatetimeIndex\n",
    "# resample to monthly frequency with average daily exchange rates\n",
    "forex_data = forex_data.resample('M').mean()\n",
    "# set the date column to reflect the last end of the month\n",
    "forex_data['date'] = forex_data.resample('M').mean().index + pd.offsets.MonthEnd()\n",
    "# drop the original date column and set the new date column as the index\n",
    "forex_data = forex_data.drop('date', axis=1)"
   ]
  },
  {
   "cell_type": "code",
   "execution_count": 48,
   "metadata": {},
   "outputs": [],
   "source": [
    "time_series_data = pd.merge(time_series_data, forex_data, on='date')"
   ]
  },
  {
   "cell_type": "code",
   "execution_count": 49,
   "metadata": {},
   "outputs": [
    {
     "data": {
      "text/html": [
       "<div>\n",
       "<style scoped>\n",
       "    .dataframe tbody tr th:only-of-type {\n",
       "        vertical-align: middle;\n",
       "    }\n",
       "\n",
       "    .dataframe tbody tr th {\n",
       "        vertical-align: top;\n",
       "    }\n",
       "\n",
       "    .dataframe thead th {\n",
       "        text-align: right;\n",
       "    }\n",
       "</style>\n",
       "<table border=\"1\" class=\"dataframe\">\n",
       "  <thead>\n",
       "    <tr style=\"text-align: right;\">\n",
       "      <th></th>\n",
       "      <th>date</th>\n",
       "      <th>price of bread (400g)</th>\n",
       "      <th>Refined Vegetable oil (1L)</th>\n",
       "      <th>Cows Milk(Fresh,Pasteurized) -500ML</th>\n",
       "      <th>Diesel (1L)</th>\n",
       "      <th>Maize meal(2kg)</th>\n",
       "      <th>Gasoline (1L)</th>\n",
       "      <th>Annual Average Inflation</th>\n",
       "      <th>12-Month Inflation</th>\n",
       "      <th>Mean</th>\n",
       "      <th>Buy</th>\n",
       "      <th>Sell</th>\n",
       "    </tr>\n",
       "  </thead>\n",
       "  <tbody>\n",
       "    <tr>\n",
       "      <th>0</th>\n",
       "      <td>2006-01-31</td>\n",
       "      <td>26.0</td>\n",
       "      <td>115.0</td>\n",
       "      <td>22.0</td>\n",
       "      <td>65.99</td>\n",
       "      <td>50.693333</td>\n",
       "      <td>75.99</td>\n",
       "      <td>9.36</td>\n",
       "      <td>8.39</td>\n",
       "      <td>72.214348</td>\n",
       "      <td>72.114819</td>\n",
       "      <td>72.313867</td>\n",
       "    </tr>\n",
       "    <tr>\n",
       "      <th>1</th>\n",
       "      <td>2006-02-28</td>\n",
       "      <td>26.0</td>\n",
       "      <td>120.0</td>\n",
       "      <td>25.0</td>\n",
       "      <td>64.99</td>\n",
       "      <td>52.573333</td>\n",
       "      <td>74.99</td>\n",
       "      <td>9.01</td>\n",
       "      <td>9.39</td>\n",
       "      <td>71.803565</td>\n",
       "      <td>71.712730</td>\n",
       "      <td>71.894390</td>\n",
       "    </tr>\n",
       "    <tr>\n",
       "      <th>2</th>\n",
       "      <td>2006-03-31</td>\n",
       "      <td>26.0</td>\n",
       "      <td>108.0</td>\n",
       "      <td>25.0</td>\n",
       "      <td>65.99</td>\n",
       "      <td>52.480000</td>\n",
       "      <td>75.99</td>\n",
       "      <td>8.61</td>\n",
       "      <td>8.85</td>\n",
       "      <td>72.281478</td>\n",
       "      <td>72.205787</td>\n",
       "      <td>72.357148</td>\n",
       "    </tr>\n",
       "    <tr>\n",
       "      <th>3</th>\n",
       "      <td>2006-04-30</td>\n",
       "      <td>26.0</td>\n",
       "      <td>110.0</td>\n",
       "      <td>25.0</td>\n",
       "      <td>66.64</td>\n",
       "      <td>53.613333</td>\n",
       "      <td>76.64</td>\n",
       "      <td>7.77</td>\n",
       "      <td>5.44</td>\n",
       "      <td>71.303518</td>\n",
       "      <td>71.231894</td>\n",
       "      <td>71.375159</td>\n",
       "    </tr>\n",
       "    <tr>\n",
       "      <th>4</th>\n",
       "      <td>2006-05-31</td>\n",
       "      <td>26.0</td>\n",
       "      <td>120.0</td>\n",
       "      <td>25.0</td>\n",
       "      <td>67.89</td>\n",
       "      <td>55.906667</td>\n",
       "      <td>77.89</td>\n",
       "      <td>6.95</td>\n",
       "      <td>4.47</td>\n",
       "      <td>71.763555</td>\n",
       "      <td>71.683132</td>\n",
       "      <td>71.843986</td>\n",
       "    </tr>\n",
       "  </tbody>\n",
       "</table>\n",
       "</div>"
      ],
      "text/plain": [
       "        date  price of bread (400g)  Refined Vegetable oil (1L)  \\\n",
       "0 2006-01-31                   26.0                       115.0   \n",
       "1 2006-02-28                   26.0                       120.0   \n",
       "2 2006-03-31                   26.0                       108.0   \n",
       "3 2006-04-30                   26.0                       110.0   \n",
       "4 2006-05-31                   26.0                       120.0   \n",
       "\n",
       "   Cows Milk(Fresh,Pasteurized) -500ML   Diesel (1L)  Maize meal(2kg)  \\\n",
       "0                                 22.0         65.99        50.693333   \n",
       "1                                 25.0         64.99        52.573333   \n",
       "2                                 25.0         65.99        52.480000   \n",
       "3                                 25.0         66.64        53.613333   \n",
       "4                                 25.0         67.89        55.906667   \n",
       "\n",
       "   Gasoline (1L)  Annual Average Inflation  12-Month Inflation       Mean  \\\n",
       "0          75.99                      9.36                8.39  72.214348   \n",
       "1          74.99                      9.01                9.39  71.803565   \n",
       "2          75.99                      8.61                8.85  72.281478   \n",
       "3          76.64                      7.77                5.44  71.303518   \n",
       "4          77.89                      6.95                4.47  71.763555   \n",
       "\n",
       "         Buy       Sell  \n",
       "0  72.114819  72.313867  \n",
       "1  71.712730  71.894390  \n",
       "2  72.205787  72.357148  \n",
       "3  71.231894  71.375159  \n",
       "4  71.683132  71.843986  "
      ]
     },
     "execution_count": 49,
     "metadata": {},
     "output_type": "execute_result"
    }
   ],
   "source": [
    "time_series_data.head()"
   ]
  },
  {
   "cell_type": "code",
   "execution_count": 50,
   "metadata": {},
   "outputs": [],
   "source": [
    "time_series_data.set_index('date', inplace=True)"
   ]
  },
  {
   "cell_type": "code",
   "execution_count": 51,
   "metadata": {},
   "outputs": [
    {
     "data": {
      "text/plain": [
       "(207, 11)"
      ]
     },
     "execution_count": 51,
     "metadata": {},
     "output_type": "execute_result"
    }
   ],
   "source": [
    "time_series_data.shape"
   ]
  },
  {
   "cell_type": "code",
   "execution_count": 52,
   "metadata": {},
   "outputs": [
    {
     "data": {
      "text/plain": [
       "price of bread (400g)                  0\n",
       "Refined Vegetable oil (1L)             0\n",
       "Cows Milk(Fresh,Pasteurized) -500ML    0\n",
       " Diesel (1L)                           0\n",
       "Maize meal(2kg)                        0\n",
       "Gasoline (1L)                          0\n",
       "Annual Average Inflation               0\n",
       "12-Month Inflation                     0\n",
       "Mean                                   0\n",
       "Buy                                    0\n",
       "Sell                                   0\n",
       "dtype: int64"
      ]
     },
     "execution_count": 52,
     "metadata": {},
     "output_type": "execute_result"
    }
   ],
   "source": [
    "time_series_data.isna().sum()"
   ]
  },
  {
   "cell_type": "code",
   "execution_count": 53,
   "metadata": {},
   "outputs": [
    {
     "data": {
      "text/html": [
       "<div>\n",
       "<style scoped>\n",
       "    .dataframe tbody tr th:only-of-type {\n",
       "        vertical-align: middle;\n",
       "    }\n",
       "\n",
       "    .dataframe tbody tr th {\n",
       "        vertical-align: top;\n",
       "    }\n",
       "\n",
       "    .dataframe thead th {\n",
       "        text-align: right;\n",
       "    }\n",
       "</style>\n",
       "<table border=\"1\" class=\"dataframe\">\n",
       "  <thead>\n",
       "    <tr style=\"text-align: right;\">\n",
       "      <th></th>\n",
       "      <th>price of bread (400g)</th>\n",
       "      <th>Refined Vegetable oil (1L)</th>\n",
       "      <th>Cows Milk(Fresh,Pasteurized) -500ML</th>\n",
       "      <th>Diesel (1L)</th>\n",
       "      <th>Maize meal(2kg)</th>\n",
       "      <th>Gasoline (1L)</th>\n",
       "      <th>Annual Average Inflation</th>\n",
       "      <th>12-Month Inflation</th>\n",
       "      <th>Mean</th>\n",
       "      <th>Buy</th>\n",
       "      <th>Sell</th>\n",
       "    </tr>\n",
       "    <tr>\n",
       "      <th>date</th>\n",
       "      <th></th>\n",
       "      <th></th>\n",
       "      <th></th>\n",
       "      <th></th>\n",
       "      <th></th>\n",
       "      <th></th>\n",
       "      <th></th>\n",
       "      <th></th>\n",
       "      <th></th>\n",
       "      <th></th>\n",
       "      <th></th>\n",
       "    </tr>\n",
       "  </thead>\n",
       "  <tbody>\n",
       "    <tr>\n",
       "      <th>2006-01-31</th>\n",
       "      <td>26.0</td>\n",
       "      <td>115.0</td>\n",
       "      <td>22.0</td>\n",
       "      <td>65.99</td>\n",
       "      <td>50.693333</td>\n",
       "      <td>75.99</td>\n",
       "      <td>9.36</td>\n",
       "      <td>8.39</td>\n",
       "      <td>72.214348</td>\n",
       "      <td>72.114819</td>\n",
       "      <td>72.313867</td>\n",
       "    </tr>\n",
       "    <tr>\n",
       "      <th>2006-02-28</th>\n",
       "      <td>26.0</td>\n",
       "      <td>120.0</td>\n",
       "      <td>25.0</td>\n",
       "      <td>64.99</td>\n",
       "      <td>52.573333</td>\n",
       "      <td>74.99</td>\n",
       "      <td>9.01</td>\n",
       "      <td>9.39</td>\n",
       "      <td>71.803565</td>\n",
       "      <td>71.712730</td>\n",
       "      <td>71.894390</td>\n",
       "    </tr>\n",
       "    <tr>\n",
       "      <th>2006-03-31</th>\n",
       "      <td>26.0</td>\n",
       "      <td>108.0</td>\n",
       "      <td>25.0</td>\n",
       "      <td>65.99</td>\n",
       "      <td>52.480000</td>\n",
       "      <td>75.99</td>\n",
       "      <td>8.61</td>\n",
       "      <td>8.85</td>\n",
       "      <td>72.281478</td>\n",
       "      <td>72.205787</td>\n",
       "      <td>72.357148</td>\n",
       "    </tr>\n",
       "    <tr>\n",
       "      <th>2006-04-30</th>\n",
       "      <td>26.0</td>\n",
       "      <td>110.0</td>\n",
       "      <td>25.0</td>\n",
       "      <td>66.64</td>\n",
       "      <td>53.613333</td>\n",
       "      <td>76.64</td>\n",
       "      <td>7.77</td>\n",
       "      <td>5.44</td>\n",
       "      <td>71.303518</td>\n",
       "      <td>71.231894</td>\n",
       "      <td>71.375159</td>\n",
       "    </tr>\n",
       "    <tr>\n",
       "      <th>2006-05-31</th>\n",
       "      <td>26.0</td>\n",
       "      <td>120.0</td>\n",
       "      <td>25.0</td>\n",
       "      <td>67.89</td>\n",
       "      <td>55.906667</td>\n",
       "      <td>77.89</td>\n",
       "      <td>6.95</td>\n",
       "      <td>4.47</td>\n",
       "      <td>71.763555</td>\n",
       "      <td>71.683132</td>\n",
       "      <td>71.843986</td>\n",
       "    </tr>\n",
       "  </tbody>\n",
       "</table>\n",
       "</div>"
      ],
      "text/plain": [
       "            price of bread (400g)  Refined Vegetable oil (1L)  \\\n",
       "date                                                            \n",
       "2006-01-31                   26.0                       115.0   \n",
       "2006-02-28                   26.0                       120.0   \n",
       "2006-03-31                   26.0                       108.0   \n",
       "2006-04-30                   26.0                       110.0   \n",
       "2006-05-31                   26.0                       120.0   \n",
       "\n",
       "            Cows Milk(Fresh,Pasteurized) -500ML   Diesel (1L)  \\\n",
       "date                                                            \n",
       "2006-01-31                                 22.0         65.99   \n",
       "2006-02-28                                 25.0         64.99   \n",
       "2006-03-31                                 25.0         65.99   \n",
       "2006-04-30                                 25.0         66.64   \n",
       "2006-05-31                                 25.0         67.89   \n",
       "\n",
       "            Maize meal(2kg)  Gasoline (1L)  Annual Average Inflation  \\\n",
       "date                                                                   \n",
       "2006-01-31        50.693333          75.99                      9.36   \n",
       "2006-02-28        52.573333          74.99                      9.01   \n",
       "2006-03-31        52.480000          75.99                      8.61   \n",
       "2006-04-30        53.613333          76.64                      7.77   \n",
       "2006-05-31        55.906667          77.89                      6.95   \n",
       "\n",
       "            12-Month Inflation       Mean        Buy       Sell  \n",
       "date                                                             \n",
       "2006-01-31                8.39  72.214348  72.114819  72.313867  \n",
       "2006-02-28                9.39  71.803565  71.712730  71.894390  \n",
       "2006-03-31                8.85  72.281478  72.205787  72.357148  \n",
       "2006-04-30                5.44  71.303518  71.231894  71.375159  \n",
       "2006-05-31                4.47  71.763555  71.683132  71.843986  "
      ]
     },
     "execution_count": 53,
     "metadata": {},
     "output_type": "execute_result"
    }
   ],
   "source": [
    "time_series_data.head()"
   ]
  },
  {
   "cell_type": "code",
   "execution_count": 54,
   "metadata": {},
   "outputs": [
    {
     "name": "stdout",
     "output_type": "stream",
     "text": [
      "<class 'pandas.core.frame.DataFrame'>\n",
      "DatetimeIndex: 207 entries, 2006-01-31 to 2023-02-28\n",
      "Data columns (total 11 columns):\n",
      " #   Column                               Non-Null Count  Dtype  \n",
      "---  ------                               --------------  -----  \n",
      " 0   price of bread (400g)                207 non-null    float64\n",
      " 1   Refined Vegetable oil (1L)           207 non-null    float64\n",
      " 2   Cows Milk(Fresh,Pasteurized) -500ML  207 non-null    float64\n",
      " 3    Diesel (1L)                         207 non-null    float64\n",
      " 4   Maize meal(2kg)                      207 non-null    float64\n",
      " 5   Gasoline (1L)                        207 non-null    float64\n",
      " 6   Annual Average Inflation             207 non-null    float64\n",
      " 7   12-Month Inflation                   207 non-null    float64\n",
      " 8   Mean                                 207 non-null    float64\n",
      " 9   Buy                                  207 non-null    float64\n",
      " 10  Sell                                 207 non-null    float64\n",
      "dtypes: float64(11)\n",
      "memory usage: 19.4 KB\n"
     ]
    }
   ],
   "source": [
    "time_series_data.info()"
   ]
  },
  {
   "cell_type": "code",
   "execution_count": 55,
   "metadata": {},
   "outputs": [
    {
     "data": {
      "text/plain": [
       "1"
      ]
     },
     "execution_count": 55,
     "metadata": {},
     "output_type": "execute_result"
    }
   ],
   "source": [
    "time_series_data.duplicated().sum()"
   ]
  },
  {
   "cell_type": "code",
   "execution_count": 56,
   "metadata": {},
   "outputs": [],
   "source": [
    "time_series_data = time_series_data.drop_duplicates()"
   ]
  },
  {
   "cell_type": "markdown",
   "metadata": {},
   "source": [
    "# 4. EXPLORATORY DATA ANALYSIS "
   ]
  },
  {
   "cell_type": "markdown",
   "metadata": {},
   "source": [
    "---"
   ]
  },
  {
   "cell_type": "markdown",
   "metadata": {},
   "source": [
    "### Price of bread over the years "
   ]
  },
  {
   "cell_type": "code",
   "execution_count": 57,
   "metadata": {
    "scrolled": true
   },
   "outputs": [
    {
     "data": {
      "text/plain": [
       "<AxesSubplot:xlabel='date'>"
      ]
     },
     "execution_count": 57,
     "metadata": {},
     "output_type": "execute_result"
    },
    {
     "data": {
      "image/png": "[encoded data removed]",
      "text/plain": [
       "<Figure size 864x360 with 1 Axes>"
      ]
     },
     "metadata": {
      "needs_background": "light"
     },
     "output_type": "display_data"
    }
   ],
   "source": [
    "time_series_data['price of bread (400g)'].plot(figsize=(12,5), color='red')"
   ]
  },
  {
   "cell_type": "markdown",
   "metadata": {},
   "source": [
    "### Price of Vegetable oil over the years "
   ]
  },
  {
   "cell_type": "code",
   "execution_count": 61,
   "metadata": {},
   "outputs": [
    {
     "data": {
      "text/plain": [
       "<AxesSubplot:xlabel='date'>"
      ]
     },
     "execution_count": 61,
     "metadata": {},
     "output_type": "execute_result"
    },
    {
     "data": {
      "image/png": "[encoded data removed]",
      "text/plain": [
       "<Figure size 864x360 with 1 Axes>"
      ]
     },
     "metadata": {
      "needs_background": "light"
     },
     "output_type": "display_data"
    }
   ],
   "source": [
    "time_series_data['Refined Vegetable oil (1L)'].plot(figsize=(12,5), color=\"green\")"
   ]
  },
  {
   "cell_type": "markdown",
   "metadata": {},
   "source": [
    "### Price of milk over the years"
   ]
  },
  {
   "cell_type": "code",
   "execution_count": 62,
   "metadata": {},
   "outputs": [
    {
     "data": {
      "text/plain": [
       "<AxesSubplot:xlabel='date'>"
      ]
     },
     "execution_count": 62,
     "metadata": {},
     "output_type": "execute_result"
    },
    {
     "data": {
      "image/png": "[encoded data removed]",
      "text/plain": [
       "<Figure size 864x360 with 1 Axes>"
      ]
     },
     "metadata": {
      "needs_background": "light"
     },
     "output_type": "display_data"
    }
   ],
   "source": [
    "time_series_data['Cows Milk(Fresh,Pasteurized) -500ML'].plot(figsize=(12,5), color=\"purple\")"
   ]
  },
  {
   "cell_type": "markdown",
   "metadata": {},
   "source": [
    "### Price of Diesel over the years"
   ]
  },
  {
   "cell_type": "code",
   "execution_count": 65,
   "metadata": {},
   "outputs": [
    {
     "data": {
      "text/plain": [
       "<AxesSubplot:xlabel='date'>"
      ]
     },
     "execution_count": 65,
     "metadata": {},
     "output_type": "execute_result"
    },
    {
     "data": {
      "image/png": "[encoded data removed]",
      "text/plain": [
       "<Figure size 864x360 with 1 Axes>"
      ]
     },
     "metadata": {
      "needs_background": "light"
     },
     "output_type": "display_data"
    }
   ],
   "source": [
    "time_series_data[' Diesel (1L)'].plot(figsize=(12,5), color=\"orange\")"
   ]
  },
  {
   "cell_type": "markdown",
   "metadata": {},
   "source": [
    "### Price of Maize meal over the years"
   ]
  },
  {
   "cell_type": "code",
   "execution_count": 67,
   "metadata": {},
   "outputs": [
    {
     "data": {
      "text/plain": [
       "<AxesSubplot:xlabel='date'>"
      ]
     },
     "execution_count": 67,
     "metadata": {},
     "output_type": "execute_result"
    },
    {
     "data": {
      "image/png": "[encoded data removed]",
      "text/plain": [
       "<Figure size 864x360 with 1 Axes>"
      ]
     },
     "metadata": {
      "needs_background": "light"
     },
     "output_type": "display_data"
    }
   ],
   "source": [
    "time_series_data['Maize meal(2kg)'].plot(figsize=(12,5), color=\"maroon\")"
   ]
  },
  {
   "cell_type": "markdown",
   "metadata": {},
   "source": [
    "### Price of Gasoline over the years"
   ]
  },
  {
   "cell_type": "code",
   "execution_count": 70,
   "metadata": {},
   "outputs": [
    {
     "data": {
      "text/plain": [
       "<AxesSubplot:xlabel='date'>"
      ]
     },
     "execution_count": 70,
     "metadata": {},
     "output_type": "execute_result"
    },
    {
     "data": {
      "image/png": "[encoded data removed]",
      "text/plain": [
       "<Figure size 864x360 with 1 Axes>"
      ]
     },
     "metadata": {
      "needs_background": "light"
     },
     "output_type": "display_data"
    }
   ],
   "source": [
    "time_series_data['Gasoline (1L)'].plot(figsize=(12,5), color=\"lime\")"
   ]
  },
  {
   "cell_type": "markdown",
   "metadata": {},
   "source": [
    "### Price of 12-month inflation over the years"
   ]
  },
  {
   "cell_type": "code",
   "execution_count": 72,
   "metadata": {},
   "outputs": [
    {
     "data": {
      "text/plain": [
       "<AxesSubplot:xlabel='date'>"
      ]
     },
     "execution_count": 72,
     "metadata": {},
     "output_type": "execute_result"
    },
    {
     "data": {
      "image/png": "[encoded data removed]",
      "text/plain": [
       "<Figure size 864x360 with 1 Axes>"
      ]
     },
     "metadata": {
      "needs_background": "light"
     },
     "output_type": "display_data"
    }
   ],
   "source": [
    "time_series_data['12-Month Inflation'].plot(figsize=(12,5), color=\"Cyan\")"
   ]
  },
  {
   "cell_type": "markdown",
   "metadata": {},
   "source": [
    "### Price of US-DOLLAR over the years"
   ]
  },
  {
   "cell_type": "code",
   "execution_count": 73,
   "metadata": {},
   "outputs": [
    {
     "data": {
      "text/plain": [
       "<AxesSubplot:xlabel='date'>"
      ]
     },
     "execution_count": 73,
     "metadata": {},
     "output_type": "execute_result"
    },
    {
     "data": {
      "image/png": "[encoded data removed]",
      "text/plain": [
       "<Figure size 864x360 with 1 Axes>"
      ]
     },
     "metadata": {
      "needs_background": "light"
     },
     "output_type": "display_data"
    }
   ],
   "source": [
    "time_series_data['Buy'].plot(figsize=(12,5), color=\"RosyBrown\")"
   ]
  },
  {
   "cell_type": "code",
   "execution_count": null,
   "metadata": {},
   "outputs": [],
   "source": []
  }
 ],
 "metadata": {
  "kernelspec": {
   "display_name": "Python (learn-env)",
   "language": "python",
   "name": "learn-env"
  },
  "language_info": {
   "codemirror_mode": {
    "name": "ipython",
    "version": 3
   },
   "file_extension": ".py",
   "mimetype": "text/x-python",
   "name": "python",
   "nbconvert_exporter": "python",
   "pygments_lexer": "ipython3",
   "version": "3.10.9"
  },
  "varInspector": {
   "cols": {
    "lenName": 16,
    "lenType": 16,
    "lenVar": 40
   },
   "kernels_config": {
    "python": {
     "delete_cmd_postfix": "",
     "delete_cmd_prefix": "del ",
     "library": "var_list.py",
     "varRefreshCmd": "print(var_dic_list())"
    },
    "r": {
     "delete_cmd_postfix": ") ",
     "delete_cmd_prefix": "rm(",
     "library": "var_list.r",
     "varRefreshCmd": "cat(var_dic_list()) "
    }
   },
   "types_to_exclude": [
    "module",
    "function",
    "builtin_function_or_method",
    "instance",
    "_Feature"
   ],
   "window_display": false
  }
 },
 "nbformat": 4,
 "nbformat_minor": 4
}
