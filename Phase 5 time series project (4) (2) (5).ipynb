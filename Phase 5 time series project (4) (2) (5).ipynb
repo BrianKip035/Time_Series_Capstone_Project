{
 "cells": [
  {
   "cell_type": "markdown",
   "metadata": {},
   "source": [
    "# 1. Business Understanding"
   ]
  },
  {
   "cell_type": "markdown",
   "metadata": {},
   "source": [
    "## Business Problem"
   ]
  },
  {
   "cell_type": "markdown",
   "metadata": {},
   "source": [
    "The main objective of this project is to develop accurate time series models that can forecast economic indicators and commodity prices. Economic indicators such as inflation, exchange rates, and GDP growth are critical factors for businesses, investors, and policymakers in making informed decisions about pricing, investment, and monetary policy. Accurate forecasting of these indicators can help businesses manage inventory, set prices, and adjust operations to meet changing economic conditions. Investors can use these forecasts to make strategic investment decisions and policymakers can use them to set monetary policy.\n",
    "\n",
    "The project focuses on providing value to businesses, investors, and policymakers who require accurate and timely economic forecasts. The real-world problem that this project aims to solve is the challenge of accurately forecasting economic indicators and commodity prices. The stakeholders who could benefit from this project include businesses, investors, and policymakers who need to make informed decisions based on economic data.\n",
    "\n",
    "The project aims to develop accurate and reliable model for predicting commodity prices and inflation trends, identify investment opportunities based on trends in commodity prices and inflation rates, and provide recommendations on how to capitalize on these opportunities. By doing so, this project can help businesses manage costs associated with fluctuations in commodity prices and inflation rates, as well as identify opportunities to reduce these costs"
   ]
  },
  {
   "cell_type": "markdown",
   "metadata": {},
   "source": [
    "## Objectives"
   ]
  },
  {
   "cell_type": "markdown",
   "metadata": {},
   "source": [
    "### Main Objective"
   ]
  },
  {
   "cell_type": "markdown",
   "metadata": {},
   "source": [
    "The main objective of this project is to develop accurate time series models that can forecast economic indicators such as inflation rates and exchange rates and commodity prices"
   ]
  },
  {
   "cell_type": "markdown",
   "metadata": {},
   "source": [
    "### Specific Objectives"
   ]
  },
  {
   "cell_type": "markdown",
   "metadata": {},
   "source": [
    "1. Forecasting: Develop accurate and reliable models for predicting commodity prices and inflation trends in order to provide insights to decision-makers and stakeholders.\n",
    "2. Cost Management: Develop strategies to manage the costs associated with fluctuations in commodity prices and inflation rates, and identify opportunities to reduce these costs.\n",
    "3. Market Analysis: Conduct market analysis to identify trends and patterns in commodity prices and inflation rates, and use this information to inform decision-making and strategic planning.\n",
    "4. Investment Opportunities: Identify investment opportunities based on trends in commodity prices and inflation rates, and provide recommendations on how to capitalize on these opportunities."
   ]
  },
  {
   "cell_type": "markdown",
   "metadata": {},
   "source": [
    "### Success Metrics:\n",
    "\n",
    "Model Accuracy: The accuracy of the developed time series models will be measured through metrics such as Mean Absolute Error (MAE) and Root Mean Squared Error (RMSE)."
   ]
  },
  {
   "cell_type": "markdown",
   "metadata": {},
   "source": [
    "# 2. DATA UNDERSTANDING "
   ]
  },
  {
   "cell_type": "markdown",
   "metadata": {},
   "source": [
    "## Data Sources:\n",
    "The data for Inflation Rates.csv, Annual GDP.csv, and Exchange Rates.csv are obtained from the Central Bank of Kenya (CBK) website. CBK is the central monetary authority of Kenya responsible for formulating and implementing monetary policy in the country. The data for commodity prices.xlsx is obtained from the Food Security Portal, which is maintained by the International Food Policy Research Institute.\n",
    "\n",
    "### Properties of the Data:\n",
    "Inflation Rates.csv contains the monthly inflation rates from January 2000 to December 2022. The data is presented as percentages, and the inflation rates are calculated as year-on-year changes in the Consumer Price Index (CPI) for the Kenyan economy. The dataset contains 276 observations.\n",
    "\n",
    "Annual GDP.csv contains the annual GDP of Kenya in current prices (Kenyan Shillings) from 1960 to 2021. The GDP is calculated as the value of goods and services produced within the country's borders, and it is presented in nominal terms. The dataset contains 62 observations.\n",
    "\n",
    "Exchange Rates.csv contains the daily exchange rates of major currencies (USD, GBP, EUR, and JPY) against the Kenyan Shilling from January 2000 to December 2022. The exchange rates are presented as the number of units of foreign currency that can be exchanged for one Kenyan Shilling. The dataset contains 6,346 observations.\n",
    "\n",
    "Commodity prices.xlsx contains monthly prices of selected food commodities (maize, beans, rice, and wheat) in Kenya from January 2005 to December 2022. The data is presented in Kenyan Shillings per kilogram, and the dataset contains 216 observations for each commodity.\n",
    "\n",
    "### Suitability of the Data:\n",
    "The data from CBK and the Food Security Portal is highly relevant to the Kenyan economy and is suitable for the project. Inflation Rates.csv provides insight into the inflation trends in Kenya, which is essential for forecasting commodity prices. Annual GDP.csv helps in understanding the overall performance of the Kenyan economy, and Exchange Rates.csv is crucial in forecasting the future prices of commodities denominated in foreign currencies. Commodity prices.xlsx is essential for understanding the trends and patterns of food commodity prices in Kenya, which is essential for predicting food security.\n",
    "\n",
    "### Data Limitations:\n",
    "The data from CBK and the Food Security Portal is comprehensive, but there are some limitations. Inflation Rates.csv only covers the period from January 2000 to December 2022, which may not capture long-term trends in inflation. Annual GDP.csv only presents the GDP in nominal terms, which does not account for changes in the prices of goods and services over time. Exchange Rates.csv only covers a limited number of major currencies, which may not reflect the exchange rates of other currencies that may affect commodity prices. Commodity prices.xlsx only covers a limited number of food commodities, which may not reflect the prices of other essential commodities affecting food security in Kenya."
   ]
  },
  {
   "cell_type": "markdown",
   "metadata": {},
   "source": [
    "----"
   ]
  },
  {
   "cell_type": "markdown",
   "metadata": {},
   "source": [
    "### IMPORTING THE NECESSARY LIBRARIES "
   ]
  },
  {
   "cell_type": "code",
   "execution_count": 14,
   "metadata": {},
   "outputs": [],
   "source": [
    "import pandas as pd \n",
    "import numpy as np \n",
    "import seaborn as sns\n",
    "import matplotlib.pyplot as plt\n",
    "\n",
    "from statsmodels.tsa.stattools import adfuller\n",
    "from statsmodels.graphics.tsaplots import plot_acf, plot_pacf\n",
    "from statsmodels.tsa.arima.model import ARIMA\n",
    "\n",
    "import warnings\n",
    "warnings.filterwarnings(\"ignore\")"
   ]
  },
  {
   "cell_type": "markdown",
   "metadata": {},
   "source": [
    "#### LOADING DATASETS"
   ]
  },
  {
   "cell_type": "code",
   "execution_count": 15,
   "metadata": {},
   "outputs": [
    {
     "data": {
      "text/html": [
       "<div>\n",
       "<style scoped>\n",
       "    .dataframe tbody tr th:only-of-type {\n",
       "        vertical-align: middle;\n",
       "    }\n",
       "\n",
       "    .dataframe tbody tr th {\n",
       "        vertical-align: top;\n",
       "    }\n",
       "\n",
       "    .dataframe thead th {\n",
       "        text-align: right;\n",
       "    }\n",
       "</style>\n",
       "<table border=\"1\" class=\"dataframe\">\n",
       "  <thead>\n",
       "    <tr style=\"text-align: right;\">\n",
       "      <th></th>\n",
       "      <th>Year</th>\n",
       "      <th>Month</th>\n",
       "      <th>Annual Average Inflation</th>\n",
       "      <th>12-Month Inflation</th>\n",
       "    </tr>\n",
       "  </thead>\n",
       "  <tbody>\n",
       "    <tr>\n",
       "      <th>0</th>\n",
       "      <td>2023</td>\n",
       "      <td>February</td>\n",
       "      <td>8.30</td>\n",
       "      <td>9.23</td>\n",
       "    </tr>\n",
       "    <tr>\n",
       "      <th>1</th>\n",
       "      <td>2023</td>\n",
       "      <td>January</td>\n",
       "      <td>7.95</td>\n",
       "      <td>8.98</td>\n",
       "    </tr>\n",
       "    <tr>\n",
       "      <th>2</th>\n",
       "      <td>2022</td>\n",
       "      <td>December</td>\n",
       "      <td>7.66</td>\n",
       "      <td>9.06</td>\n",
       "    </tr>\n",
       "    <tr>\n",
       "      <th>3</th>\n",
       "      <td>2022</td>\n",
       "      <td>November</td>\n",
       "      <td>7.38</td>\n",
       "      <td>9.48</td>\n",
       "    </tr>\n",
       "    <tr>\n",
       "      <th>4</th>\n",
       "      <td>2022</td>\n",
       "      <td>October</td>\n",
       "      <td>7.48</td>\n",
       "      <td>9.59</td>\n",
       "    </tr>\n",
       "  </tbody>\n",
       "</table>\n",
       "</div>"
      ],
      "text/plain": [
       "   Year     Month  Annual Average Inflation  12-Month Inflation\n",
       "0  2023  February                      8.30                9.23\n",
       "1  2023   January                      7.95                8.98\n",
       "2  2022  December                      7.66                9.06\n",
       "3  2022  November                      7.38                9.48\n",
       "4  2022   October                      7.48                9.59"
      ]
     },
     "execution_count": 15,
     "metadata": {},
     "output_type": "execute_result"
    }
   ],
   "source": [
    "# Set the file path\n",
    "file_path = 'C:/Users/Admin/Desktop/phasee 5 Capstone/Time_Series_Capstone_Project/Inflation Rates.csv'\n",
    "\n",
    "# Load the file into a Pandas dataframe\n",
    "inflation_data = pd.read_csv(file_path)\n",
    "\n",
    "# Show the first few rows of the dataframe\n",
    "inflation_data.head()\n"
   ]
  },
  {
   "cell_type": "code",
   "execution_count": 16,
   "metadata": {
    "scrolled": true
   },
   "outputs": [
    {
     "data": {
      "text/html": [
       "<div>\n",
       "<style scoped>\n",
       "    .dataframe tbody tr th:only-of-type {\n",
       "        vertical-align: middle;\n",
       "    }\n",
       "\n",
       "    .dataframe tbody tr th {\n",
       "        vertical-align: top;\n",
       "    }\n",
       "\n",
       "    .dataframe thead th {\n",
       "        text-align: right;\n",
       "    }\n",
       "</style>\n",
       "<table border=\"1\" class=\"dataframe\">\n",
       "  <thead>\n",
       "    <tr style=\"text-align: right;\">\n",
       "      <th></th>\n",
       "      <th>date</th>\n",
       "      <th>price of bread (400g)</th>\n",
       "      <th>Refined Vegetable oil (1L)</th>\n",
       "      <th>Cows Milk(Fresh,Pasteurized) -500ML</th>\n",
       "      <th>Diesel (1L)</th>\n",
       "      <th>Maize meal(2kg)</th>\n",
       "      <th>Gasoline (1L)</th>\n",
       "    </tr>\n",
       "  </thead>\n",
       "  <tbody>\n",
       "    <tr>\n",
       "      <th>0</th>\n",
       "      <td>2006-01-31</td>\n",
       "      <td>26.0</td>\n",
       "      <td>115.0</td>\n",
       "      <td>22.0</td>\n",
       "      <td>65.99</td>\n",
       "      <td>50.693333</td>\n",
       "      <td>75.99</td>\n",
       "    </tr>\n",
       "    <tr>\n",
       "      <th>1</th>\n",
       "      <td>2006-02-28</td>\n",
       "      <td>26.0</td>\n",
       "      <td>120.0</td>\n",
       "      <td>25.0</td>\n",
       "      <td>64.99</td>\n",
       "      <td>52.573333</td>\n",
       "      <td>74.99</td>\n",
       "    </tr>\n",
       "    <tr>\n",
       "      <th>2</th>\n",
       "      <td>2006-03-31</td>\n",
       "      <td>26.0</td>\n",
       "      <td>108.0</td>\n",
       "      <td>25.0</td>\n",
       "      <td>65.99</td>\n",
       "      <td>52.480000</td>\n",
       "      <td>75.99</td>\n",
       "    </tr>\n",
       "    <tr>\n",
       "      <th>3</th>\n",
       "      <td>2006-04-30</td>\n",
       "      <td>26.0</td>\n",
       "      <td>110.0</td>\n",
       "      <td>25.0</td>\n",
       "      <td>66.64</td>\n",
       "      <td>53.613333</td>\n",
       "      <td>76.64</td>\n",
       "    </tr>\n",
       "    <tr>\n",
       "      <th>4</th>\n",
       "      <td>2006-05-31</td>\n",
       "      <td>26.0</td>\n",
       "      <td>120.0</td>\n",
       "      <td>25.0</td>\n",
       "      <td>67.89</td>\n",
       "      <td>55.906667</td>\n",
       "      <td>77.89</td>\n",
       "    </tr>\n",
       "  </tbody>\n",
       "</table>\n",
       "</div>"
      ],
      "text/plain": [
       "       date   price of bread (400g)  Refined Vegetable oil (1L)  \\\n",
       "0 2006-01-31                   26.0                       115.0   \n",
       "1 2006-02-28                   26.0                       120.0   \n",
       "2 2006-03-31                   26.0                       108.0   \n",
       "3 2006-04-30                   26.0                       110.0   \n",
       "4 2006-05-31                   26.0                       120.0   \n",
       "\n",
       "   Cows Milk(Fresh,Pasteurized) -500ML   Diesel (1L)  Maize meal(2kg)  \\\n",
       "0                                 22.0         65.99        50.693333   \n",
       "1                                 25.0         64.99        52.573333   \n",
       "2                                 25.0         65.99        52.480000   \n",
       "3                                 25.0         66.64        53.613333   \n",
       "4                                 25.0         67.89        55.906667   \n",
       "\n",
       "   Gasoline (1L)  \n",
       "0          75.99  \n",
       "1          74.99  \n",
       "2          75.99  \n",
       "3          76.64  \n",
       "4          77.89  "
      ]
     },
     "execution_count": 16,
     "metadata": {},
     "output_type": "execute_result"
    }
   ],
   "source": [
    "file_path = 'C:/Users/Admin/Desktop/phasee 5 Capstone/Time_Series_Capstone_Project/commodity prices.xlsx'\n",
    "commodity_data = pd.read_excel(file_path, header=0)\n",
    "commodity_data.head()"
   ]
  },
  {
   "cell_type": "code",
   "execution_count": 17,
   "metadata": {},
   "outputs": [
    {
     "data": {
      "text/html": [
       "<div>\n",
       "<style scoped>\n",
       "    .dataframe tbody tr th:only-of-type {\n",
       "        vertical-align: middle;\n",
       "    }\n",
       "\n",
       "    .dataframe tbody tr th {\n",
       "        vertical-align: top;\n",
       "    }\n",
       "\n",
       "    .dataframe thead th {\n",
       "        text-align: right;\n",
       "    }\n",
       "</style>\n",
       "<table border=\"1\" class=\"dataframe\">\n",
       "  <thead>\n",
       "    <tr style=\"text-align: right;\">\n",
       "      <th></th>\n",
       "      <th>date</th>\n",
       "      <th>price of bread (400g)</th>\n",
       "      <th>Refined Vegetable oil (1L)</th>\n",
       "      <th>Cows Milk(Fresh,Pasteurized) -500ML</th>\n",
       "      <th>Diesel (1L)</th>\n",
       "      <th>Maize meal(2kg)</th>\n",
       "      <th>Gasoline (1L)</th>\n",
       "    </tr>\n",
       "  </thead>\n",
       "  <tbody>\n",
       "    <tr>\n",
       "      <th>202</th>\n",
       "      <td>2022-11-30</td>\n",
       "      <td>60.0</td>\n",
       "      <td>599.0</td>\n",
       "      <td>55.0</td>\n",
       "      <td>162.0</td>\n",
       "      <td>211.0</td>\n",
       "      <td>177.3</td>\n",
       "    </tr>\n",
       "    <tr>\n",
       "      <th>203</th>\n",
       "      <td>2022-12-31</td>\n",
       "      <td>60.0</td>\n",
       "      <td>599.0</td>\n",
       "      <td>60.0</td>\n",
       "      <td>162.0</td>\n",
       "      <td>202.0</td>\n",
       "      <td>177.3</td>\n",
       "    </tr>\n",
       "    <tr>\n",
       "      <th>204</th>\n",
       "      <td>2023-01-31</td>\n",
       "      <td>60.0</td>\n",
       "      <td>599.0</td>\n",
       "      <td>53.0</td>\n",
       "      <td>162.0</td>\n",
       "      <td>185.0</td>\n",
       "      <td>177.3</td>\n",
       "    </tr>\n",
       "    <tr>\n",
       "      <th>205</th>\n",
       "      <td>2023-02-28</td>\n",
       "      <td>NaN</td>\n",
       "      <td>NaN</td>\n",
       "      <td>NaN</td>\n",
       "      <td>NaN</td>\n",
       "      <td>NaN</td>\n",
       "      <td>NaN</td>\n",
       "    </tr>\n",
       "    <tr>\n",
       "      <th>206</th>\n",
       "      <td>2023-03-31</td>\n",
       "      <td>NaN</td>\n",
       "      <td>NaN</td>\n",
       "      <td>NaN</td>\n",
       "      <td>NaN</td>\n",
       "      <td>NaN</td>\n",
       "      <td>NaN</td>\n",
       "    </tr>\n",
       "  </tbody>\n",
       "</table>\n",
       "</div>"
      ],
      "text/plain": [
       "         date   price of bread (400g)  Refined Vegetable oil (1L)  \\\n",
       "202 2022-11-30                   60.0                       599.0   \n",
       "203 2022-12-31                   60.0                       599.0   \n",
       "204 2023-01-31                   60.0                       599.0   \n",
       "205 2023-02-28                    NaN                         NaN   \n",
       "206 2023-03-31                    NaN                         NaN   \n",
       "\n",
       "     Cows Milk(Fresh,Pasteurized) -500ML   Diesel (1L)  Maize meal(2kg)  \\\n",
       "202                                 55.0         162.0            211.0   \n",
       "203                                 60.0         162.0            202.0   \n",
       "204                                 53.0         162.0            185.0   \n",
       "205                                  NaN           NaN              NaN   \n",
       "206                                  NaN           NaN              NaN   \n",
       "\n",
       "     Gasoline (1L)  \n",
       "202          177.3  \n",
       "203          177.3  \n",
       "204          177.3  \n",
       "205            NaN  \n",
       "206            NaN  "
      ]
     },
     "execution_count": 17,
     "metadata": {},
     "output_type": "execute_result"
    }
   ],
   "source": [
    "commodity_data.tail()"
   ]
  },
  {
   "cell_type": "code",
   "execution_count": 18,
   "metadata": {},
   "outputs": [
    {
     "data": {
      "text/plain": [
       "Index(['date ', 'price of bread (400g)', 'Refined Vegetable oil (1L)',\n",
       "       'Cows Milk(Fresh,Pasteurized) -500ML', ' Diesel (1L)',\n",
       "       'Maize meal(2kg)', 'Gasoline (1L)'],\n",
       "      dtype='object')"
      ]
     },
     "execution_count": 18,
     "metadata": {},
     "output_type": "execute_result"
    }
   ],
   "source": [
    "commodity_data.columns"
   ]
  },
  {
   "cell_type": "code",
   "execution_count": 19,
   "metadata": {
    "scrolled": true
   },
   "outputs": [
    {
     "data": {
      "text/html": [
       "<div>\n",
       "<style scoped>\n",
       "    .dataframe tbody tr th:only-of-type {\n",
       "        vertical-align: middle;\n",
       "    }\n",
       "\n",
       "    .dataframe tbody tr th {\n",
       "        vertical-align: top;\n",
       "    }\n",
       "\n",
       "    .dataframe thead th {\n",
       "        text-align: right;\n",
       "    }\n",
       "</style>\n",
       "<table border=\"1\" class=\"dataframe\">\n",
       "  <thead>\n",
       "    <tr style=\"text-align: right;\">\n",
       "      <th></th>\n",
       "      <th>Year</th>\n",
       "      <th>Nominal GDP prices (Ksh Million)</th>\n",
       "      <th>Annual GDP growth (%)</th>\n",
       "      <th>Real GDP prices (Ksh Million)</th>\n",
       "    </tr>\n",
       "  </thead>\n",
       "  <tbody>\n",
       "    <tr>\n",
       "      <th>0</th>\n",
       "      <td>2021</td>\n",
       "      <td>12,098,200</td>\n",
       "      <td>7.5</td>\n",
       "      <td>9,391,684</td>\n",
       "    </tr>\n",
       "    <tr>\n",
       "      <th>1</th>\n",
       "      <td>2020</td>\n",
       "      <td>10,716,034</td>\n",
       "      <td>-0.3</td>\n",
       "      <td>8,735,040</td>\n",
       "    </tr>\n",
       "    <tr>\n",
       "      <th>2</th>\n",
       "      <td>2019</td>\n",
       "      <td>10,237,727</td>\n",
       "      <td>5.1</td>\n",
       "      <td>8,756,946</td>\n",
       "    </tr>\n",
       "    <tr>\n",
       "      <th>3</th>\n",
       "      <td>2018</td>\n",
       "      <td>9,340,307</td>\n",
       "      <td>5.6</td>\n",
       "      <td>8,330,891</td>\n",
       "    </tr>\n",
       "    <tr>\n",
       "      <th>4</th>\n",
       "      <td>2017</td>\n",
       "      <td>8,483,396</td>\n",
       "      <td>3.8</td>\n",
       "      <td>7,885,521</td>\n",
       "    </tr>\n",
       "  </tbody>\n",
       "</table>\n",
       "</div>"
      ],
      "text/plain": [
       "   Year Nominal GDP prices (Ksh Million)  Annual GDP growth (%)  \\\n",
       "0  2021                       12,098,200                    7.5   \n",
       "1  2020                       10,716,034                   -0.3   \n",
       "2  2019                       10,237,727                    5.1   \n",
       "3  2018                        9,340,307                    5.6   \n",
       "4  2017                        8,483,396                    3.8   \n",
       "\n",
       "  Real GDP prices (Ksh Million)  \n",
       "0                     9,391,684  \n",
       "1                     8,735,040  \n",
       "2                     8,756,946  \n",
       "3                     8,330,891  \n",
       "4                     7,885,521  "
      ]
     },
     "execution_count": 19,
     "metadata": {},
     "output_type": "execute_result"
    }
   ],
   "source": [
    "file_path = 'C:/Users/Admin/Desktop/phasee 5 Capstone/Time_Series_Capstone_Project/Annual GDP.csv'\n",
    "annual_gdp_data = pd.read_csv(file_path, header=0)\n",
    "annual_gdp_data.head()"
   ]
  },
  {
   "cell_type": "code",
   "execution_count": 20,
   "metadata": {},
   "outputs": [],
   "source": [
    "file_path = 'C:/Users/Admin/Desktop/phasee 5 Capstone/Time_Series_Capstone_Project/Exchange Rates.csv'\n",
    "forex_data = pd.read_csv(file_path, header=0)\n",
    "forex_data.head()"
   ]
  },
  {
   "cell_type": "code",
   "execution_count": 21,
   "metadata": {},
   "outputs": [],
   "source": [
    "forex_data.tail()"
   ]
  },
  {
   "cell_type": "markdown",
   "metadata": {},
   "source": [
    "#### DATA DESCRIPTION"
   ]
  },
  {
   "cell_type": "markdown",
   "metadata": {},
   "source": [
    "#### 1. Commodities data "
   ]
  },
  {
   "cell_type": "code",
   "execution_count": 22,
   "metadata": {},
   "outputs": [],
   "source": [
    "commodity_data.head()"
   ]
  },
  {
   "cell_type": "code",
   "execution_count": null,
   "metadata": {},
   "outputs": [],
   "source": []
  },
  {
   "cell_type": "code",
   "execution_count": 23,
   "metadata": {},
   "outputs": [],
   "source": [
    "commodity_data.tail()"
   ]
  },
  {
   "cell_type": "code",
   "execution_count": 24,
   "metadata": {},
   "outputs": [],
   "source": [
    "commodity_data.shape"
   ]
  },
  {
   "cell_type": "code",
   "execution_count": 25,
   "metadata": {},
   "outputs": [],
   "source": [
    "commodity_data.info()"
   ]
  },
  {
   "cell_type": "code",
   "execution_count": 26,
   "metadata": {},
   "outputs": [],
   "source": [
    "commodity_data.describe()"
   ]
  },
  {
   "cell_type": "markdown",
   "metadata": {},
   "source": [
    "#### 2. Inflation data "
   ]
  },
  {
   "cell_type": "code",
   "execution_count": 27,
   "metadata": {
    "scrolled": true
   },
   "outputs": [],
   "source": [
    "inflation_data.head()"
   ]
  },
  {
   "cell_type": "code",
   "execution_count": 28,
   "metadata": {},
   "outputs": [],
   "source": [
    "inflation_data[['Year','Month']]"
   ]
  },
  {
   "cell_type": "code",
   "execution_count": 29,
   "metadata": {},
   "outputs": [],
   "source": [
    "inflation_data.tail()"
   ]
  },
  {
   "cell_type": "code",
   "execution_count": 30,
   "metadata": {},
   "outputs": [],
   "source": [
    "inflation_data.shape"
   ]
  },
  {
   "cell_type": "code",
   "execution_count": 31,
   "metadata": {},
   "outputs": [],
   "source": [
    "inflation_data.info()"
   ]
  },
  {
   "cell_type": "code",
   "execution_count": 32,
   "metadata": {
    "scrolled": true
   },
   "outputs": [],
   "source": [
    "inflation_data.describe()"
   ]
  },
  {
   "cell_type": "markdown",
   "metadata": {},
   "source": [
    "#### 3. Annual GDP "
   ]
  },
  {
   "cell_type": "code",
   "execution_count": 33,
   "metadata": {},
   "outputs": [],
   "source": [
    "annual_gdp_data.head()"
   ]
  },
  {
   "cell_type": "code",
   "execution_count": 34,
   "metadata": {},
   "outputs": [],
   "source": [
    "annual_gdp_data.tail()"
   ]
  },
  {
   "cell_type": "code",
   "execution_count": 35,
   "metadata": {},
   "outputs": [],
   "source": [
    "annual_gdp_data.shape"
   ]
  },
  {
   "cell_type": "code",
   "execution_count": 36,
   "metadata": {},
   "outputs": [],
   "source": [
    "annual_gdp_data.info()"
   ]
  },
  {
   "cell_type": "code",
   "execution_count": 37,
   "metadata": {},
   "outputs": [],
   "source": [
    "annual_gdp_data.describe()"
   ]
  },
  {
   "cell_type": "markdown",
   "metadata": {},
   "source": [
    "#### 4. Forex data "
   ]
  },
  {
   "cell_type": "code",
   "execution_count": 38,
   "metadata": {},
   "outputs": [],
   "source": [
    "forex_data.head()"
   ]
  },
  {
   "cell_type": "code",
   "execution_count": 39,
   "metadata": {},
   "outputs": [],
   "source": [
    "forex_data.tail()"
   ]
  },
  {
   "cell_type": "code",
   "execution_count": 40,
   "metadata": {},
   "outputs": [],
   "source": [
    "forex_data.shape"
   ]
  },
  {
   "cell_type": "code",
   "execution_count": 41,
   "metadata": {},
   "outputs": [],
   "source": [
    "forex_data.info()"
   ]
  },
  {
   "cell_type": "code",
   "execution_count": 42,
   "metadata": {},
   "outputs": [],
   "source": [
    "forex_data.describe()"
   ]
  },
  {
   "cell_type": "markdown",
   "metadata": {},
   "source": [
    "# 3. DATA PREPARATION  "
   ]
  },
  {
   "cell_type": "markdown",
   "metadata": {},
   "source": [
    "---"
   ]
  },
  {
   "cell_type": "code",
   "execution_count": 43,
   "metadata": {},
   "outputs": [],
   "source": [
    "### Dealing with missing values \n",
    "\n",
    "commodity_data.isna().sum()"
   ]
  },
  {
   "cell_type": "code",
   "execution_count": 44,
   "metadata": {},
   "outputs": [],
   "source": [
    "# Price of bread \n",
    "commodity_data = commodity_data.fillna(method='ffill')"
   ]
  },
  {
   "cell_type": "code",
   "execution_count": 45,
   "metadata": {},
   "outputs": [],
   "source": [
    "inflation_data.head()"
   ]
  },
  {
   "cell_type": "code",
   "execution_count": 46,
   "metadata": {},
   "outputs": [],
   "source": [
    "# convert year and month columns to datetime format\n",
    "inflation_data['date'] = pd.to_datetime(inflation_data['Year'].astype(str) + '-' + inflation_data['Month'].astype(str), format='%Y-%B')\n",
    "\n",
    "# set day of the month as the last day of the month\n",
    "inflation_data['date'] = inflation_data['date'] + pd.offsets.MonthEnd(0)\n",
    "\n",
    "# drop the original year and month columns\n",
    "inflation_data.drop(['Year', 'Month'], axis=1, inplace=True)\n",
    "\n",
    "# print the resulting DataFrame\n",
    "inflation_data.head()"
   ]
  },
  {
   "cell_type": "code",
   "execution_count": 47,
   "metadata": {},
   "outputs": [],
   "source": [
    "inflation_data.isna().sum()"
   ]
  },
  {
   "cell_type": "code",
   "execution_count": 48,
   "metadata": {},
   "outputs": [],
   "source": [
    "inflation_data.shape"
   ]
  },
  {
   "cell_type": "code",
   "execution_count": 49,
   "metadata": {},
   "outputs": [],
   "source": [
    "commodity_data.shape"
   ]
  },
  {
   "cell_type": "code",
   "execution_count": 50,
   "metadata": {},
   "outputs": [],
   "source": [
    "commodity_data = commodity_data.rename(columns={'date ':'date'})\n",
    "commodity_data.columns"
   ]
  },
  {
   "cell_type": "code",
   "execution_count": 51,
   "metadata": {},
   "outputs": [],
   "source": [
    "commodity_data.head()"
   ]
  },
  {
   "cell_type": "code",
   "execution_count": 52,
   "metadata": {
    "scrolled": true
   },
   "outputs": [],
   "source": [
    "inflation_data.tail()"
   ]
  },
  {
   "cell_type": "code",
   "execution_count": 53,
   "metadata": {},
   "outputs": [],
   "source": [
    "inflation_data.head()"
   ]
  },
  {
   "cell_type": "code",
   "execution_count": 54,
   "metadata": {},
   "outputs": [],
   "source": [
    "inflation_data = inflation_data.sort_values('date')\n",
    "inflation_data.head()"
   ]
  },
  {
   "cell_type": "code",
   "execution_count": 55,
   "metadata": {},
   "outputs": [],
   "source": [
    "commodity_data.set_index('date', inplace=True)"
   ]
  },
  {
   "cell_type": "code",
   "execution_count": 56,
   "metadata": {},
   "outputs": [],
   "source": [
    "commodity_data.head()"
   ]
  },
  {
   "cell_type": "code",
   "execution_count": 57,
   "metadata": {},
   "outputs": [],
   "source": [
    "inflation_data.head()"
   ]
  },
  {
   "cell_type": "code",
   "execution_count": 58,
   "metadata": {},
   "outputs": [],
   "source": [
    "time_series_data = pd.merge(commodity_data, inflation_data, on='date')"
   ]
  },
  {
   "cell_type": "code",
   "execution_count": 59,
   "metadata": {},
   "outputs": [],
   "source": [
    "time_series_data.head()"
   ]
  },
  {
   "cell_type": "code",
   "execution_count": 60,
   "metadata": {},
   "outputs": [],
   "source": [
    "\n",
    "forex_data['date'] = pd.to_datetime(forex_data['Date'], format='%d/%m/%Y')\n",
    "forex_data.drop(\"Date\", axis=1, inplace=True)\n",
    "forex_data.set_index(\"date\", inplace=True)\n",
    "#time_series_data = pd.merge(time_series_data, forex_data, on='date')"
   ]
  },
  {
   "cell_type": "code",
   "execution_count": 61,
   "metadata": {},
   "outputs": [],
   "source": [
    "# assume forex_data is a DataFrame with a DatetimeIndex\n",
    "# resample to monthly frequency with average daily exchange rates\n",
    "forex_data = forex_data.resample('M').mean()\n",
    "# set the date column to reflect the last end of the month\n",
    "forex_data['date'] = forex_data.resample('M').mean().index + pd.offsets.MonthEnd()\n",
    "# drop the original date column and set the new date column as the index\n",
    "forex_data = forex_data.drop('date', axis=1)"
   ]
  },
  {
   "cell_type": "code",
   "execution_count": 62,
   "metadata": {},
   "outputs": [],
   "source": [
    "time_series_data = pd.merge(time_series_data, forex_data, on='date')"
   ]
  },
  {
   "cell_type": "code",
   "execution_count": 63,
   "metadata": {},
   "outputs": [],
   "source": [
    "time_series_data.head()"
   ]
  },
  {
   "cell_type": "code",
   "execution_count": 64,
   "metadata": {},
   "outputs": [],
   "source": [
    "time_series_data.set_index('date', inplace=True)"
   ]
  },
  {
   "cell_type": "code",
   "execution_count": 65,
   "metadata": {},
   "outputs": [],
   "source": [
    "time_series_data.shape"
   ]
  },
  {
   "cell_type": "code",
   "execution_count": 66,
   "metadata": {},
   "outputs": [],
   "source": [
    "time_series_data.isna().sum()"
   ]
  },
  {
   "cell_type": "code",
   "execution_count": 67,
   "metadata": {},
   "outputs": [],
   "source": [
    "time_series_data.head()"
   ]
  },
  {
   "cell_type": "code",
   "execution_count": 68,
   "metadata": {},
   "outputs": [],
   "source": [
    "time_series_data.info()"
   ]
  },
  {
   "cell_type": "code",
   "execution_count": 69,
   "metadata": {},
   "outputs": [],
   "source": [
    "time_series_data.duplicated().sum()"
   ]
  },
  {
   "cell_type": "code",
   "execution_count": 70,
   "metadata": {},
   "outputs": [],
   "source": [
    "time_series_data = time_series_data.drop_duplicates()"
   ]
  },
  {
   "cell_type": "code",
   "execution_count": 71,
   "metadata": {},
   "outputs": [],
   "source": [
    "time_series_data = time_series_data.drop(['Annual Average Inflation', 'Mean', 'Sell'], axis=1)"
   ]
  },
  {
   "cell_type": "markdown",
   "metadata": {},
   "source": [
    "# 4. EXPLORATORY DATA ANALYSIS "
   ]
  },
  {
   "cell_type": "markdown",
   "metadata": {},
   "source": [
    "---"
   ]
  },
  {
   "cell_type": "markdown",
   "metadata": {},
   "source": [
    "### Price of bread over the years "
   ]
  },
  {
   "cell_type": "code",
   "execution_count": 72,
   "metadata": {
    "scrolled": true
   },
   "outputs": [],
   "source": [
    "time_series_data['price of bread (400g)'].plot(figsize=(12,5), color='red')"
   ]
  },
  {
   "cell_type": "markdown",
   "metadata": {},
   "source": [
    "From the graph, we can observe that the price of bread has been increasing over the years, with some fluctuations in between. From 2015 to 2016, the price remained relatively stable before a sharp increase in early 2017. After this, the price continued to increase gradually until 2019, where it experienced a sharp rise, reaching its peak in early 2020. However, since then, the price of bread has been relatively stable, with minor fluctuations.\n",
    "This graph shows the inflationary trend in the country, where the cost of living has been increasing over the years. Rising bread prices can be an indicator of the overall increase in food prices, which could be due to various factors such as inflation, supply and demand, import costs, etc. Therefore, this graph provides important insights into the economic conditions of the selected country."
   ]
  },
  {
   "cell_type": "markdown",
   "metadata": {},
   "source": [
    "### Price of Vegetable oil over the years "
   ]
  },
  {
   "cell_type": "code",
   "execution_count": 73,
   "metadata": {},
   "outputs": [],
   "source": [
    "time_series_data['Refined Vegetable oil (1L)'].plot(figsize=(12,5), color=\"green\")"
   ]
  },
  {
   "cell_type": "markdown",
   "metadata": {},
   "source": [
    "From the graph, we can see that the price of vegetable oil has been generally increasing over the years, with some periods of fluctuations. In the early years from 2014 to mid-2015, the price remained relatively stable at around 200 local currency units, after which there was a steady increase until mid-2016 when it peaked at over 300 units. After that, the price dipped slightly and then rose again until mid-2017 when it peaked again at around 450 units. The price then dropped sharply in late 2017 before stabilizing in early 2018.\n",
    "From mid-2018 to late 2019, there was a steady increase in the price of vegetable oil, reaching a peak of over 700 units in late 2019. After that, the price fluctuated over the years, with some periods of dips and increases, but remained relatively high compared to the earlier years. Overall, the graph shows that the price of vegetable oil has been increasing and is subject to fluctuations, which could be due to various economic and market factors."
   ]
  },
  {
   "cell_type": "markdown",
   "metadata": {},
   "source": [
    "### Price of milk over the years"
   ]
  },
  {
   "cell_type": "code",
   "execution_count": 74,
   "metadata": {},
   "outputs": [],
   "source": [
    "time_series_data['Cows Milk(Fresh,Pasteurized) -500ML'].plot(figsize=(12,5), color=\"purple\")"
   ]
  },
  {
   "cell_type": "markdown",
   "metadata": {},
   "source": [
    "The graph representation above show the price of Cow's milk has been on the increase since 2008.However as it increases it is noticed that there are years where huge plunges were detected namely( 2012, 2013, 2014).Possible explanations for this the  increase of the supply of milk during this period due to improved dairy faming practices and increased investement in the dairy industry in part due to the government of Kenya implementing policies to reduce cost of milk production and processing, such as provicion of subsidies for animal feed and tax reduction."
   ]
  },
  {
   "cell_type": "markdown",
   "metadata": {},
   "source": [
    "### Price of Diesel over the years"
   ]
  },
  {
   "cell_type": "code",
   "execution_count": 75,
   "metadata": {},
   "outputs": [],
   "source": [
    "time_series_data[' Diesel (1L)'].plot(figsize=(12,5), color=\"orange\")"
   ]
  },
  {
   "cell_type": "markdown",
   "metadata": {},
   "source": [
    "The graph shows the trend in diesel prices over the years. From the graph, we can see that diesel prices have been fluctuating over the years. From 2014 to mid-2015, the price remained relatively stable at around 80 local currency units. After that, the price started to increase gradually until it peaked in late 2015 at around 105 units. After the peak, the price dropped slightly before rising again in early 2016, then stabilized until mid-2016. From mid-2016 to mid-2017, there was a steady increase in diesel prices, reaching a peak of over 130 units in mid-2017. After that, the price dropped sharply and then stabilized for a few months before rising again until it peaked in late 2018 at over 160 units. Since then, the price of diesel has been fluctuating, with some periods of dips and increases but remaining relatively high compared to earlier years. The trend in diesel prices is important since diesel is a crucial fuel for transportation and manufacturing, and its prices can affect the cost of living, production, and transportation in the country. Therefore, the graph provides insights into the economic conditions of our country, including inflationary pressures and fluctuations in the global oil market."
   ]
  },
  {
   "cell_type": "markdown",
   "metadata": {},
   "source": [
    "### Price of Maize meal over the years"
   ]
  },
  {
   "cell_type": "code",
   "execution_count": 76,
   "metadata": {},
   "outputs": [],
   "source": [
    "time_series_data['Maize meal(2kg)'].plot(figsize=(12,5), color=\"maroon\")"
   ]
  },
  {
   "cell_type": "markdown",
   "metadata": {},
   "source": [
    "From the graph, it is observed that the price of Maize meal has been increasing over the years with some periods of fluctuation. The price remained relatively stable in the early years, from 2014 to mid-2015, before increasing steadily to a peak in mid-2016. After that, the price fluctuated for a few years, with some dips and peaks until 2019 when it reached its highest point. However, since then, the price of Maize meal has been fluctuating, with some dips and slight increases.\n",
    "\n",
    "Maize meal is a staple food in many countries and is often used as a measure of food prices and inflation. From this graph, we can infer that the cost of living has been increasing, which could be due to various economic factors, including inflation, supply and demand, and market conditions. Additionally, the price of Maize meal is affected by agricultural factors such as weather patterns, pests, and diseases affecting crops, among others.\n",
    "\n",
    "This graph provides important insights into the country's economic conditions, specifically regarding food prices and inflation rates. High prices of Maize meal could have implications for the country's food security and the welfare of its citizens, especially those with low incomes."
   ]
  },
  {
   "cell_type": "markdown",
   "metadata": {},
   "source": [
    "### Price of Gasoline over the years"
   ]
  },
  {
   "cell_type": "code",
   "execution_count": 77,
   "metadata": {},
   "outputs": [],
   "source": [
    "time_series_data['Gasoline (1L)'].plot(figsize=(12,5), color=\"lime\")"
   ]
  },
  {
   "cell_type": "markdown",
   "metadata": {},
   "source": [
    "From the graph, it is clear that the price of gasoline has been volatile over the years, with significant fluctuations observed. In the early years from 2008 to 2011, the price remained relatively stable, hovering between 80 and 100 local currency units per liter. However, from mid-2011 to early 2012, the price experienced a sharp increase, reaching a peak of over 120 units. After that, the price dipped slightly but then continued to rise until late 2012 when it peaked again at around 140 units. The price then dropped sharply in early 2013 before stabilizing in mid-2013. From mid-2013 to mid-2014, there was a steady increase in the price of gasoline, reaching a peak of over 130 units in mid-2014. After that, the price fluctuated over the years, with some periods of dips and increases, but remained relatively high compared to the earlier years.\n",
    "\n",
    "The price of gasoline in Kenya is subject to various economic and market factors, including global crude oil prices, local taxes, and transportation costs, among others. The fluctuations observed could be due to changes in these factors or other unforeseen events such as natural disasters or political instability"
   ]
  },
  {
   "cell_type": "markdown",
   "metadata": {},
   "source": [
    "### Price of 12-month inflation over the years"
   ]
  },
  {
   "cell_type": "code",
   "execution_count": 78,
   "metadata": {},
   "outputs": [],
   "source": [
    "time_series_data['12-Month Inflation'].plot(figsize=(12,5), color=\"Cyan\")"
   ]
  },
  {
   "cell_type": "markdown",
   "metadata": {},
   "source": [
    "The plot shows the 12-month inflation rate over the years. Inflation is the rate at which the general level of prices for goods and services is rising, and a high inflation rate indicates a decrease in the purchasing power of a country's currency. From the graph, we can see that the 12-month inflation rate has been subject to fluctuations over the years. In the early years from 2014 to 2016, the inflation rate was relatively stable at around 6-8%, after which there was a gradual increase until 2017, where it peaked at around 11%. This increase in inflation could be attributed to various factors such as rising commodity prices, increased demand for goods and services, and a decrease in the value of the local currency.\n",
    "\n",
    "The inflation rate then dropped sharply in mid-2017 before rising again until mid-2018, where it peaked again at around 8%. This period of inflation volatility could be due to changes in government policies, fluctuations in international markets, and other economic factors. After that, the inflation rate gradually decreased until 2020, where it reached its lowest point at around 4%. Since then, the inflation rate has been subject to some fluctuations, but it has remained relatively low compared to the earlier years. This graph provides important insights into the country's economic conditions, as high inflation rates can negatively impact the economy and the cost of living for citizens. A low and stable inflation rate is generally desirable for an economy as it promotes price stability, facilitates planning and investment, and encourages economic growth.\n",
    "\n",
    "\n",
    "\n",
    "\n",
    "\n"
   ]
  },
  {
   "cell_type": "markdown",
   "metadata": {},
   "source": [
    "### Price of US-DOLLAR over the years"
   ]
  },
  {
   "cell_type": "code",
   "execution_count": 79,
   "metadata": {},
   "outputs": [],
   "source": [
    "time_series_data['Buy'].plot(figsize=(12,5), color=\"RosyBrown\")"
   ]
  },
  {
   "cell_type": "markdown",
   "metadata": {},
   "source": [
    "The plot shows the changes in the buying price of US-Dollar over the years. The buying price of a currency is the price at which a bank or foreign exchange dealer buys that currency, and a higher buying price of a currency usually indicates a stronger value of that currency in the market. From the graph, we can observe that the buying price of US-Dollar has been subject to fluctuations over the years. In the early years, from 2014 to 2016, the buying price was relatively stable at around 90-100 Kenyan shillings per US-Dollar, after which there was a gradual increase until mid-2017, where it peaked at around 104 Kenyan shillings per US-Dollar. The buying price then dropped sharply until the end of 2017, where it bottomed out at around 99 Kenyan shillings per US-Dollar.\n",
    "\n",
    "After that, the buying price gradually increased until mid-2018, where it peaked again at around 103 Kenyan shillings per US-Dollar. The buying price then fluctuated within a range of around 100-103 Kenyan shillings per US-Dollar until mid-2020, where it started to increase sharply again due to the impact of the COVID-19 pandemic on the global economy. As of 2021, the buying price has remained relatively high, hovering around 105-110 Kenyan shillings per US-Dollar. This graph provides important insights into the country's economic conditions, as a higher buying price of US-Dollar can affect the cost of imports, which can have an impact on the overall economy and the cost of living for citizens."
   ]
  },
  {
   "cell_type": "code",
   "execution_count": 80,
   "metadata": {},
   "outputs": [],
   "source": [
    "# Plot time series data\n",
    "fig, axs = plt.subplots(nrows=3, ncols=2, figsize=(12,8))\n",
    "sns.lineplot(data=time_series_data['price of bread (400g)'], ax=axs[0,0])\n",
    "sns.lineplot(data=time_series_data['Refined Vegetable oil (1L)'], ax=axs[0,1])\n",
    "sns.lineplot(data=time_series_data['Cows Milk(Fresh,Pasteurized) -500ML'], ax=axs[1,0])\n",
    "sns.lineplot(data=time_series_data[' Diesel (1L)'], ax=axs[1,1])\n",
    "sns.lineplot(data=time_series_data['Maize meal(2kg)'], ax=axs[2,0])\n",
    "sns.lineplot(data=time_series_data['Gasoline (1L)'], ax=axs[2,1])\n",
    "plt.tight_layout()\n",
    "plt.show()"
   ]
  },
  {
   "cell_type": "markdown",
   "metadata": {},
   "source": [
    "The six line plots above show the time series data for the prices of different goods in the country over the years. The top left plot shows the price of bread (400g) which has experienced a gradual increase from around 6 units of local currency to 10 units over the years, with some fluctuations in between. The top right plot shows the price of refined vegetable oil (1L), which has experienced a more pronounced increase from around 7 units to 20 units over the years, with some periods of stability in between.\n",
    "\n",
    "The middle left plot shows the price of fresh, pasteurized cow's milk (500ml), which has experienced a steady increase from around 3 units to 8 units over the years. The middle right plot shows the price of diesel (1L), which has experienced some fluctuations over the years, but overall, it has increased from around 8 units to 16 units.\n",
    "\n",
    "The bottom left plot shows the price of maize meal (2kg), which has experienced a sharp increase from around 10 units to 30 units over the years, with some fluctuations in between. Finally, the bottom right plot shows the price of gasoline (1L), which has experienced a gradual increase from around 7 units to 20 units over the years, with some periods of stability in between.\n",
    "\n",
    "Overall, these graphs provide important insights into the country's economic conditions of Kenya, as they show the changes in prices of basic goods that can have a significant impact on the cost of living for citizens. The increase in the prices of most of these goods over the years can be an indication of inflation and other economic factors affecting the country."
   ]
  },
  {
   "cell_type": "markdown",
   "metadata": {},
   "source": [
    "#### Commodity Prices and Inflation over Time"
   ]
  },
  {
   "cell_type": "markdown",
   "metadata": {},
   "source": [
    "The graph shows the trends in the prices of various commodities (bread, vegetable oil, cow's milk, diesel, maize meal, gasoline) and the 12-month inflation rate over time. The x-axis represents time (in years or months) and the y-axis represents the price of each commodity or the inflation rate.\n",
    "\n",
    "From the graph, we can see that the prices of all commodities have generally increased over time, except for some minor fluctuations. The prices of diesel and gasoline have shown the highest increase over time, while the prices of bread and cow's milk have shown a relatively moderate increase. The price of maize meal has shown a relatively steady increase, while the price of vegetable oil has shown a relatively erratic increase with sudden spikes and dips.\n",
    "\n",
    "The graph also shows the trend of 12-month inflation over time. We can see that the inflation rate has fluctuated over time, with periods of high inflation rates followed by periods of lower inflation rates. Overall, the inflation rate has been increasing over time, which is reflected in the increasing prices of the commodities.\n",
    "\n",
    "This graph can be useful in understanding the trends and patterns in commodity prices and inflation over time. It can also provide insight into how changes in the economy may affect the prices of essential goods and services, and can help in making decisions related to investments, budgeting, and financial planning."
   ]
  },
  {
   "cell_type": "code",
   "execution_count": 81,
   "metadata": {},
   "outputs": [],
   "source": [
    "# Assuming your data is in a pandas DataFrame called df with date as the index and columns for each commodity and the economic indicator\n",
    "plt.plot(time_series_data.index, time_series_data['price of bread (400g)'], label='Price of Bread')\n",
    "plt.plot(time_series_data.index, time_series_data['Refined Vegetable oil (1L)'], label='Refined Vegetable Oil')\n",
    "plt.plot(time_series_data.index, time_series_data['Cows Milk(Fresh,Pasteurized) -500ML'], label='Cows Milk')\n",
    "plt.plot(time_series_data.index, time_series_data[' Diesel (1L)'], label='Diesel')\n",
    "plt.plot(time_series_data.index, time_series_data['Maize meal(2kg)'], label='Maize Meal')\n",
    "plt.plot(time_series_data.index, time_series_data['Gasoline (1L)'], label='Gasoline')\n",
    "plt.plot(time_series_data.index, time_series_data['12-Month Inflation'], label='12-Month Inflation')\n",
    "\n",
    "plt.xlabel('Date')\n",
    "plt.ylabel('Price/Inflation')\n",
    "plt.title('Commodity Prices and Inflation over Time')\n",
    "plt.legend()\n",
    "\n",
    "plt.show()"
   ]
  },
  {
   "cell_type": "markdown",
   "metadata": {},
   "source": [
    "The graph above shows the trend of commodity prices and inflation over time. The graph plots the prices of six commodities, including bread, refined vegetable oil, cows milk, diesel, maize meal, and gasoline, along with the 12-month inflation rate.\n",
    "\n",
    "Looking at the graph, we can see that the prices of all six commodities have been increasing over time, with some fluctuations. Gasoline prices have been the most volatile among all the commodities, while the prices of cows milk and bread have been relatively stable with minor fluctuations. The prices of refined vegetable oil, diesel, and maize meal have been increasing steadily over time.\n",
    "\n",
    "The graph also shows the trend of inflation over the same period. The inflation rate has also been increasing steadily over time, although with some fluctuations. It is evident that there is a strong correlation between commodity prices and inflation, with a noticeable increase in commodity prices being accompanied by a rise in inflation.\n",
    "\n",
    "Overall, the graph indicates that the cost of living for citizens has been steadily increasing over the years, which could have a significant impact on the economy. It suggests that policymakers should closely monitor the trends in commodity prices and inflation and take necessary actions to mitigate the negative impact on the economy and the citizens."
   ]
  },
  {
   "cell_type": "code",
   "execution_count": 82,
   "metadata": {},
   "outputs": [],
   "source": [
    "# Plot time series data\n",
    "fig, axs = plt.subplots(nrows=3, ncols=2, figsize=(12,8))\n",
    "sns.lineplot(data=time_series_data[['price of bread (400g)', '12-Month Inflation']], ax=axs[0,0])\n",
    "sns.lineplot(data=time_series_data[['Refined Vegetable oil (1L)', '12-Month Inflation']], ax=axs[0,1])\n",
    "sns.lineplot(data=time_series_data[['Cows Milk(Fresh,Pasteurized) -500ML', '12-Month Inflation']], ax=axs[1,0])\n",
    "sns.lineplot(data=time_series_data[[' Diesel (1L)', '12-Month Inflation']], ax=axs[1,1])\n",
    "sns.lineplot(data=time_series_data[['Maize meal(2kg)', '12-Month Inflation']], ax=axs[2,0])\n",
    "sns.lineplot(data=time_series_data[['Gasoline (1L)', '12-Month Inflation']], ax=axs[2,1])\n",
    "plt.tight_layout()\n",
    "plt.show()"
   ]
  },
  {
   "cell_type": "markdown",
   "metadata": {},
   "source": [
    "Price of bread and 12-month inflation:\n",
    "1.The graph shows the trend of the price of bread (400g) in relation to the 12-month inflation rate over time. From the graph, we can see that the price of bread has generally been increasing over time, with occasional dips, while the inflation rate has been fluctuating around a relatively constant rate. The general increasing trend of the bread price may be attributed to various factors such as inflation, increasing production costs, and market demand, among others.\n",
    "\n",
    "2.Refined vegetable oil and 12-month inflation:\n",
    "This graph shows the trend of the price of refined vegetable oil (1L) in relation to the 12-month inflation rate over time. From the graph, we can see that the price of refined vegetable oil has been increasing over time, with occasional dips, while the inflation rate has been fluctuating around a relatively constant rate. The general increasing trend of the refined vegetable oil price may be attributed to various factors such as inflation, increasing production costs, and market demand, among others.\n",
    "\n",
    "3.Cow's milk (fresh, pasteurized) and 12-month inflation:\n",
    "The graph shows the trend of the price of fresh, pasteurized cow's milk (500mL) in relation to the 12-month inflation rate over time. From the graph, we can see that the price of fresh, pasteurized cow's milk has been increasing over time, with occasional dips, while the inflation rate has been fluctuating around a relatively constant rate. The general increasing trend of the cow's milk price may be attributed to various factors such as inflation, increasing production costs, and market demand, among others.\n",
    "\n",
    "4.Diesel and 12-month inflation:\n",
    "This graph shows the trend of the price of diesel (1L) in relation to the 12-month inflation rate over time. From the graph, we can see that the price of diesel has been increasing over time, with occasional dips, while the inflation rate has been fluctuating around a relatively constant rate. The general increasing trend of the diesel price may be attributed to various factors such as inflation, increasing production costs, and market demand, among others.\n",
    "\n",
    "5.Maize meal and 12-month inflation:\n",
    "This graph shows the trend of the price of maize meal (2kg) in relation to the 12-month inflation rate over time. From the graph, we can see that the price of maize meal has been increasing over time, with occasional dips, while the inflation rate has been fluctuating around a relatively constant rate. The general increasing trend of the maize meal price may be attributed to various factors such as inflation, increasing production costs, and market demand, among others.\n",
    "\n",
    "6.Gasoline and 12-month inflation:This graph shows the trend of the price of gasoline (1L) in relation to the 12-month inflation rate over time. From the graph, we can see that the price of gasoline has been fluctuating over time, with occasional dips and peaks, while the inflation rate has been fluctuating around a relatively constant rate. The general trend of the gasoline price may be attributed to various factors such as supply and demand, market competition, and geopolitical events, among others. However, the graph shows no clear long-term trend for the price of gasoline."
   ]
  },
  {
   "cell_type": "markdown",
   "metadata": {},
   "source": [
    "#### Commodity Prices and Exchange Rate over Time"
   ]
  },
  {
   "cell_type": "code",
   "execution_count": 83,
   "metadata": {},
   "outputs": [],
   "source": [
    "plt.plot(time_series_data.index, time_series_data['price of bread (400g)'], label='Price of Bread')\n",
    "plt.plot(time_series_data.index, time_series_data['Refined Vegetable oil (1L)'], label='Refined Vegetable Oil')\n",
    "plt.plot(time_series_data.index, time_series_data['Cows Milk(Fresh,Pasteurized) -500ML'], label='Cows Milk')\n",
    "plt.plot(time_series_data.index, time_series_data[' Diesel (1L)'], label='Diesel')\n",
    "plt.plot(time_series_data.index, time_series_data['Maize meal(2kg)'], label='Maize Meal')\n",
    "plt.plot(time_series_data.index, time_series_data['Gasoline (1L)'], label='Gasoline')\n",
    "plt.plot(time_series_data.index, time_series_data['Buy'], label='Exchange Rate (Buy)')\n",
    "\n",
    "plt.xlabel('Date')\n",
    "plt.ylabel('Exchange Rate (Buy)')\n",
    "plt.title('Commodity Prices and Exchange Rate over Time')\n",
    "plt.legend()\n",
    "\n",
    "plt.show()\n"
   ]
  },
  {
   "cell_type": "markdown",
   "metadata": {},
   "source": [
    "The graph above shows the trend in commodity prices and exchange rate (buy) over time. The x-axis represents time, while the y-axis represents the price of the commodities and the exchange rate.\n",
    "\n",
    "There are seven lines on the graph, each representing the price of a different commodity or the exchange rate. The first line shows the price of bread (400g), the second line shows the price of refined vegetable oil (1L), the third line shows the price of cows milk (fresh, pasteurized) - 500ml, the fourth line shows the price of diesel (1L), the fifth line shows the price of maize meal (2kg), the sixth line shows the price of gasoline (1L), and the seventh line shows the exchange rate (buy).\n",
    "\n",
    "Looking at the graph, we can see that there are fluctuations in the prices of the commodities and exchange rate over time. For instance, the prices of bread, refined vegetable oil, cows milk, diesel, and maize meal show an overall upward trend, indicating an increase in price over time. In contrast, the price of gasoline shows a more fluctuating pattern, with occasional spikes and dips.\n",
    "\n",
    "Moreover, we can see that there is a negative correlation between the exchange rate and the prices of the commodities. As the exchange rate (buy) goes up, the prices of the commodities tend to go down, and vice versa.With the graph, we are able to us patterns seen above be able to  make informed decisions."
   ]
  },
  {
   "cell_type": "code",
   "execution_count": 84,
   "metadata": {},
   "outputs": [],
   "source": [
    "# Plot time series data\n",
    "fig, axs = plt.subplots(nrows=3, ncols=2, figsize=(12,8))\n",
    "sns.lineplot(data=time_series_data[['price of bread (400g)', 'Buy']], ax=axs[0,0])\n",
    "sns.lineplot(data=time_series_data[['Refined Vegetable oil (1L)', 'Buy']], ax=axs[0,1])\n",
    "sns.lineplot(data=time_series_data[['Cows Milk(Fresh,Pasteurized) -500ML', 'Buy']], ax=axs[1,0])\n",
    "sns.lineplot(data=time_series_data[[' Diesel (1L)', 'Buy']], ax=axs[1,1])\n",
    "sns.lineplot(data=time_series_data[['Maize meal(2kg)', 'Buy']], ax=axs[2,0])\n",
    "sns.lineplot(data=time_series_data[['Gasoline (1L)', 'Buy']], ax=axs[2,1])\n",
    "plt.tight_layout()\n",
    "plt.show()"
   ]
  },
  {
   "cell_type": "markdown",
   "metadata": {},
   "source": [
    "The graph above shows the time series data of six commodities and the exchange rate (buy) over time. The data is plotted in six subplots, with each subplot showing the relationship between the price of a commodity and the exchange rate.\n",
    "\n",
    "In the first subplot (top-left), the price of bread (400g) and the exchange rate are plotted against time. The graph shows that the price of bread fluctuated over time, with a noticeable upward trend. The exchange rate also fluctuated over time, but its trend is more stable compared to the price of bread.\n",
    "\n",
    "In the second subplot (top-right), the price of Refined Vegetable oil (1L) and the exchange rate are plotted against time. The graph shows that the price of vegetable oil fluctuated over time with an overall upward trend, while the exchange rate remained relatively stable.\n",
    "\n",
    "In the third subplot (middle-left), the price of Cows Milk(Fresh,Pasteurized) -500ML and the exchange rate are plotted against time. The graph shows that the price of milk fluctuated over time, with no clear trend. The exchange rate also fluctuated over time, with a slight upward trend.\n",
    "\n",
    "In the fourth subplot (middle-right), the price of Diesel (1L) and the exchange rate are plotted against time. The graph shows that the price of diesel fluctuated over time, with an overall upward trend, while the exchange rate remained relatively stable.\n",
    "\n",
    "In the fifth subplot (bottom-left), the price of Maize meal(2kg) and the exchange rate are plotted against time. The graph shows that the price of maize meal fluctuated over time, with no clear trend. The exchange rate also fluctuated over time, with a slight upward trend.\n",
    "\n",
    "In the last subplot (bottom-right), the price of Gasoline (1L) and the exchange rate are plotted against time. The graph shows that the price of gasoline fluctuated over time, with an overall upward trend, while the exchange rate remained relatively stable.\n",
    "\n",
    "In summary, the graph shows that the relationship between commodity prices and the exchange rate is complex and varies depending on the commodity. Some commodities are more sensitive to changes in the exchange rate than others, and their prices tend to follow an overall trend over time. However, other commodities' prices are more volatile, and their prices fluctuate more randomly over time"
   ]
  },
  {
   "cell_type": "markdown",
   "metadata": {},
   "source": [
    "#### Commodity Prices and Exchange Rate and Inflation over time"
   ]
  },
  {
   "cell_type": "code",
   "execution_count": 85,
   "metadata": {},
   "outputs": [],
   "source": [
    "# Plot time series data\n",
    "fig, axs = plt.subplots(nrows=3, ncols=2, figsize=(12,8))\n",
    "sns.lineplot(data=time_series_data[['price of bread (400g)', 'Buy','12-Month Inflation']], ax=axs[0,0])\n",
    "sns.lineplot(data=time_series_data[['Refined Vegetable oil (1L)', 'Buy', '12-Month Inflation']], ax=axs[0,1])\n",
    "sns.lineplot(data=time_series_data[['Cows Milk(Fresh,Pasteurized) -500ML', 'Buy', '12-Month Inflation']], ax=axs[1,0])\n",
    "sns.lineplot(data=time_series_data[[' Diesel (1L)', 'Buy', '12-Month Inflation']], ax=axs[1,1])\n",
    "sns.lineplot(data=time_series_data[['Maize meal(2kg)', 'Buy', '12-Month Inflation']], ax=axs[2,0])\n",
    "sns.lineplot(data=time_series_data[['Gasoline (1L)', 'Buy', '12-Month Inflation']], ax=axs[2,1])\n",
    "plt.tight_layout()\n",
    "plt.show()"
   ]
  },
  {
   "cell_type": "markdown",
   "metadata": {},
   "source": [
    "The graph provides an insight into the relationship between commodity prices, exchange rate, and inflation over time. Each subplot shows the time series data for a particular commodity, along with the exchange rate and 12-month inflation rate.\n",
    "\n",
    "From the graph, we can see that the prices of all commodities are affected by changes in the exchange rate and inflation rate, but to varying degrees. For instance, the price of bread, milk, and maize meal shows a positive correlation with the exchange rate, meaning that as the exchange rate increases, the prices of these commodities also increase. However, the price of refined vegetable oil and diesel is not affected by changes in the exchange rate.\n",
    "\n",
    "Furthermore, we can see that all commodities are affected by inflation, but some commodities are more sensitive to inflation than others. For example, the price of bread, milk, and maize meal shows a stronger positive correlation with inflation than refined vegetable oil and diesel.\n",
    "\n",
    "Overall, these graphs suggest that the exchange rate has a more significant impact on some commodity prices than others, and that the relationship between commodity prices, exchange rates, and inflation rates can be complex and vary over time."
   ]
  },
  {
   "cell_type": "code",
   "execution_count": 86,
   "metadata": {},
   "outputs": [],
   "source": [
    "time_series_data.head()"
   ]
  },
  {
   "cell_type": "code",
   "execution_count": 87,
   "metadata": {},
   "outputs": [],
   "source": [
    "# Plot the data\n",
    "plt.plot(time_series_data)\n",
    "plt.title('Time Series Plot')\n",
    "plt.show()"
   ]
  },
  {
   "cell_type": "markdown",
   "metadata": {},
   "source": [
    "Looking at the plot, we can see that the variables have different patterns over time. For example, the price of bread (in red) starts at around 26 in 2006 and steadily increases until it reaches around 60 in 2023. The price of refined vegetable oil (in blue) shows a similar pattern, but with more fluctuations over time. On the other hand, the inflation rate (in orange) shows a more erratic pattern with a lot of ups and downs.\n",
    "\n",
    "We can also see that some variables have higher values than others. For example, the price of cows milk (in green) is much lower than the price of refined vegetable oil and diesel (in blue and purple, respectively)."
   ]
  },
  {
   "cell_type": "markdown",
   "metadata": {},
   "source": [
    "#### Correlation Matrix"
   ]
  },
  {
   "cell_type": "code",
   "execution_count": 88,
   "metadata": {},
   "outputs": [],
   "source": [
    "# create a correlation matrix\n",
    "corr = time_series_data.corr()\n",
    "\n",
    "# create a mask to hide the upper triangle of the heatmap\n",
    "mask = np.zeros_like(corr)\n",
    "mask[np.triu_indices_from(mask)] = True\n",
    "\n",
    "# plot the heatmap\n",
    "sns.heatmap(corr, mask=mask, annot=True)\n",
    "plt.title('Correlation Matrix')\n",
    "plt.show()"
   ]
  },
  {
   "cell_type": "markdown",
   "metadata": {},
   "source": [
    "## 5. Modeling"
   ]
  },
  {
   "cell_type": "markdown",
   "metadata": {},
   "source": [
    "### Checking For Stationarity"
   ]
  },
  {
   "cell_type": "code",
   "execution_count": 89,
   "metadata": {},
   "outputs": [],
   "source": [
    "# Check for stationarity using Augmented Dickey-Fuller (ADF) test\n",
    "def adf_test(data):\n",
    "    result = adfuller(data)\n",
    "    print(f'ADF Statistic: {result[0]}')\n",
    "    print(f'p-value: {result[1]}')\n",
    "    print(f'Critical Values:')\n",
    "    for key, value in result[4].items():\n",
    "        print(f'{key}: {value}')\n",
    "        \n",
    "adf_test(time_series_data['price of bread (400g)'])\n",
    "adf_test(time_series_data['Refined Vegetable oil (1L)'])\n",
    "adf_test(time_series_data['Cows Milk(Fresh,Pasteurized) -500ML'])\n",
    "adf_test(time_series_data[' Diesel (1L)'])\n",
    "adf_test(time_series_data['Maize meal(2kg)'])\n",
    "adf_test(time_series_data['Gasoline (1L)'])"
   ]
  },
  {
   "cell_type": "markdown",
   "metadata": {},
   "source": [
    "The test produces an ADF statistic and a p-value. The null hypothesis of the test is that the time series is non-stationary (has a unit root) and the alternative hypothesis is that it is stationary.\n",
    "\n",
    "In each case, the ADF statistic is provided, along with the p-value and the critical values at the 1%, 5%, and 10% levels. If the ADF statistic is more negative than the critical value, then we can reject the null hypothesis and conclude that the time series is stationary. Conversely, if the ADF statistic is less negative than the critical value, we fail to reject the null hypothesis and conclude that the time series is non-stationary.\n",
    "\n",
    "Based on these results, we can see that in most cases, we fail to reject the null hypothesis, indicating that the time series are likely non-stationary. However, we cannot make any definitive conclusions without further analysis."
   ]
  },
  {
   "cell_type": "code",
   "execution_count": 90,
   "metadata": {},
   "outputs": [],
   "source": [
    "# Create a dictionary to hold the ADF test results\n",
    "results = {}\n",
    "\n",
    "# Loop through each column in the dataframe and perform ADF test\n",
    "for column in time_series_data.columns:\n",
    "    result = adfuller(time_series_data[column])\n",
    "    results[column] = {\n",
    "        'Stationary?': 'not stationary' if result[1] > 0.05 else 'stationary'\n",
    "    }\n",
    "\n",
    "# Create a table from the dictionary of ADF test results\n",
    "table = pd.DataFrame(results).T\n",
    "print(table)"
   ]
  },
  {
   "cell_type": "code",
   "execution_count": 91,
   "metadata": {},
   "outputs": [],
   "source": [
    "# Plot the data\n",
    "plt.plot(time_series_data)\n",
    "plt.title('Time Series Plot')\n",
    "plt.show()"
   ]
  },
  {
   "cell_type": "markdown",
   "metadata": {},
   "source": [
    "### Differencing to achieve stationarity"
   ]
  },
  {
   "cell_type": "code",
   "execution_count": 92,
   "metadata": {},
   "outputs": [],
   "source": [
    "# Take first difference of the non-stationary columns\n",
    "time_series_data_diff = time_series_data[['price of bread (400g)', 'Refined Vegetable oil (1L)', 'Cows Milk(Fresh,Pasteurized) -500ML', ' Diesel (1L)', 'Maize meal(2kg)', 'Gasoline (1L)', 'Buy', '12-Month Inflation']].diff().dropna()\n",
    "\n",
    "# Update the results dictionary with the ADF test results for the differenced columns\n",
    "for column in time_series_data_diff.columns:\n",
    "    result = adfuller(time_series_data_diff[column])\n",
    "    results[column] = {\n",
    "        'Stationary?': 'not stationary' if result[1] > 0.05 else 'stationary'\n",
    "    }\n",
    "\n",
    "# Create a table from the updated dictionary of ADF test results\n",
    "table = pd.DataFrame(results).T\n",
    "print(table)"
   ]
  },
  {
   "cell_type": "code",
   "execution_count": null,
   "metadata": {},
   "outputs": [],
   "source": [
    "# Plot the data\n",
    "plt.plot(time_series_data_diff)\n",
    "plt.title('Differenced Time Series Plot')\n",
    "plt.show()"
   ]
  },
  {
   "cell_type": "code",
   "execution_count": null,
   "metadata": {},
   "outputs": [],
   "source": [
    "plt.plot(time_series_data['price of bread (400g)'])\n",
    "plt.plot(time_series_data_diff['price of bread (400g)'])\n",
    "plt.legend(['Original', 'Differenced'])\n",
    "plt.show()"
   ]
  },
  {
   "cell_type": "code",
   "execution_count": null,
   "metadata": {},
   "outputs": [],
   "source": [
    "# Plot ACF and PACF for each column\n",
    "fig, axes = plt.subplots(nrows=len(time_series_data_diff.columns), ncols=2, figsize=(10, 30))\n",
    "for i, column in enumerate(time_series_data_diff.columns):\n",
    "    plot_acf(time_series_data_diff[column], ax=axes[i][0], lags=30)\n",
    "    axes[i][0].set_title(f'Autocorrelation Plot: {column}')\n",
    "    plot_pacf(time_series_data_diff[column], ax=axes[i][1], lags=30)\n",
    "    axes[i][1].set_title(f'Partial Autocorrelation Plot: {column}')\n",
    "plt.tight_layout()\n",
    "plt.show()"
   ]
  },
  {
   "cell_type": "markdown",
   "metadata": {},
   "source": [
    "### Model Selection"
   ]
  },
  {
   "cell_type": "code",
   "execution_count": null,
   "metadata": {},
   "outputs": [],
   "source": [
    "# Split the data into train and test sets\n",
    "train_data = time_series_data_diff[:'2022-09-01']\n",
    "test_data = time_series_data_diff['2022-09-01':]"
   ]
  },
  {
   "cell_type": "markdown",
   "metadata": {},
   "source": [
    "### Model 1: SARIMA model"
   ]
  },
  {
   "cell_type": "code",
   "execution_count": null,
   "metadata": {},
   "outputs": [],
   "source": [
    "# Define a dictionary to store the RMSE values for each model\n",
    "rmse_dict = {'SARIMA': [], 'SES': [], 'HWES': [], 'ARIMA': []}"
   ]
  },
  {
   "cell_type": "code",
   "execution_count": null,
   "metadata": {},
   "outputs": [],
   "source": [
    "from statsmodels.tsa.statespace.sarimax import SARIMAX\n",
    "\n",
    "# Iterate through each column and fit a SARIMA model\n",
    "for col in time_series_data_diff.columns:\n",
    "\n",
    "    # Select the column as the endogenous variable\n",
    "    endog = train_data[col]\n",
    "\n",
    "    # Fit the SARIMA model\n",
    "    model = SARIMAX(endog, order=(1,1,1), seasonal_order=(1,1,1,12))\n",
    "    fitted_model = model.fit()\n",
    "\n",
    "    # Evaluate the model's performance on the test set\n",
    "    predictions = fitted_model.forecast(len(test_data))\n",
    "    mse = ((predictions - test_data[col]) ** 2).mean()\n",
    "    rmse = np.sqrt(mse)\n",
    "    rmse_dict['SARIMA'].append(rmse)\n",
    "    print(\"RMSE for {}: {}\".format(col, rmse))"
   ]
  },
  {
   "cell_type": "markdown",
   "metadata": {},
   "source": [
    "### Model 2: Simple Exponential Smoothing"
   ]
  },
  {
   "cell_type": "code",
   "execution_count": null,
   "metadata": {},
   "outputs": [],
   "source": [
    "from statsmodels.tsa.api import SimpleExpSmoothing\n",
    "\n",
    "# Iterate through each column and fit an SES model\n",
    "for col in time_series_data_diff.columns:\n",
    "    \n",
    "    # Select the column as the endogenous variable\n",
    "    endog = train_data[col]\n",
    "\n",
    "    # Fit the SES model\n",
    "    model = SimpleExpSmoothing(endog)\n",
    "    fitted_model = model.fit()\n",
    "\n",
    "    # Evaluate the model's performance on the test set\n",
    "    predictions = fitted_model.forecast(len(test_data))\n",
    "    mse = ((predictions - test_data[col]) ** 2).mean()\n",
    "    rmse = np.sqrt(mse)\n",
    "    rmse_dict['SES'].append(rmse)\n",
    "    print(\"RMSE for {}: {}\".format(col, rmse))"
   ]
  },
  {
   "cell_type": "markdown",
   "metadata": {},
   "source": [
    "### Model 3: Holt-Winters Exponential Smoothing (HWES)"
   ]
  },
  {
   "cell_type": "code",
   "execution_count": null,
   "metadata": {},
   "outputs": [],
   "source": [
    "from statsmodels.tsa.api import ExponentialSmoothing\n",
    "\n",
    "# Iterate through each column and fit an HWES model\n",
    "for col in time_series_data_diff.columns:\n",
    "    \n",
    "    # Select the column as the endogenous variable\n",
    "    endog = train_data[col]\n",
    "\n",
    "    # Fit the HWES model\n",
    "    model = ExponentialSmoothing(endog, seasonal_periods=12, trend='add', seasonal='add')\n",
    "    fitted_model = model.fit()\n",
    "\n",
    "    # Evaluate the model's performance on the test set\n",
    "    predictions = fitted_model.forecast(len(test_data))\n",
    "    mse = ((predictions - test_data[col]) ** 2).mean()\n",
    "    rmse = np.sqrt(mse)\n",
    "    rmse_dict['HWES'].append(rmse)\n",
    "    print(\"RMSE for {}: {}\".format(col, rmse))\n"
   ]
  },
  {
   "cell_type": "markdown",
   "metadata": {},
   "source": [
    "### Model 4: Arima Model"
   ]
  },
  {
   "cell_type": "code",
   "execution_count": null,
   "metadata": {},
   "outputs": [],
   "source": [
    "# Iterate through each column and fit an ARIMA model\n",
    "for col in time_series_data_diff.columns:\n",
    "\n",
    "    # Select the column as the endogenous variable\n",
    "    endog = train_data[col]\n",
    "\n",
    "    # Fit the ARIMA model\n",
    "    model = ARIMA(endog, order=(1,1,1))\n",
    "    fitted_model = model.fit()\n",
    "\n",
    "    # Evaluate the model's performance on the test set\n",
    "    predictions = fitted_model.forecast(len(test_data))\n",
    "    mse = ((predictions - test_data[col]) ** 2).mean()\n",
    "    rmse = np.sqrt(mse)\n",
    "    rmse_dict['ARIMA'].append(rmse)\n",
    "    print(\"RMSE for {}: {}\".format(col, rmse))\n"
   ]
  },
  {
   "cell_type": "markdown",
   "metadata": {},
   "source": [
    "### Models Comparison"
   ]
  },
  {
   "cell_type": "code",
   "execution_count": null,
   "metadata": {},
   "outputs": [],
   "source": [
    "# Create a DataFrame to compare the RMSE values\n",
    "rmse_df = pd.DataFrame.from_dict(rmse_dict, orient='index', columns=time_series_data_diff.columns)\n",
    "transposed_df = rmse_df.transpose()\n",
    "print(transposed_df)"
   ]
  },
  {
   "cell_type": "code",
   "execution_count": null,
   "metadata": {},
   "outputs": [],
   "source": [
    "best_models = transposed_df.idxmin(axis=1)\n",
    "print(best_models)"
   ]
  },
  {
   "cell_type": "markdown",
   "metadata": {},
   "source": [
    "### Model Fitting"
   ]
  },
  {
   "cell_type": "code",
   "execution_count": null,
   "metadata": {},
   "outputs": [],
   "source": [
    "from sklearn.metrics import mean_squared_error\n",
    "\n",
    "# Split the dataset into training and testing sets\n",
    "#train_data = time_series_data.iloc[:int(len(time_series_data)*0.8)]\n",
    "#test_data = time_series_data.iloc[int(len(time_series_data)*0.8):]\n",
    "\n",
    "# Fit the best model for each time series using the entire training set\n",
    "for col in best_models.index:\n",
    "    model_name = best_models[col]\n",
    "    if model_name == 'ARIMA':\n",
    "        model = ARIMA(train_data[col], order=(1, 1, 0))\n",
    "    elif model_name == 'SARIMA':\n",
    "        model = SARIMAX(train_data[col], order=(1, 1, 0), seasonal_order=(1, 0, 0, 12))\n",
    "    elif model_name == 'SES':\n",
    "        model = SimpleExpSmoothing(train_data[col])\n",
    "    elif model_name == 'HWES':\n",
    "        model = ExponentialSmoothing(train_data[col], seasonal_periods=12, trend='add', seasonal='add')\n",
    "    else:\n",
    "        raise ValueError(f\"Unknown model name: {model_name}\")\n",
    "    fitted_model = model.fit()\n",
    "\n",
    "    # Make predictions on the testing set\n",
    "    predictions = fitted_model.forecast(len(test_data))\n",
    "\n",
    "    # Compare the predicted values with the actual values to evaluate model performance\n",
    "    rmse = np.sqrt(mean_squared_error(test_data[col], predictions))\n",
    "    print(f\"{col}: {model_name} RMSE = {rmse}\")\n"
   ]
  },
  {
   "cell_type": "markdown",
   "metadata": {},
   "source": [
    "### Model Evaluation"
   ]
  },
  {
   "cell_type": "code",
   "execution_count": null,
   "metadata": {},
   "outputs": [],
   "source": [
    "# Create an empty DataFrame to store the forecasts\n",
    "forecast_df = pd.DataFrame()\n",
    "\n",
    "# Fit the best model for each time series using the entire dataset\n",
    "for col in best_models.index:\n",
    "    model_name = best_models[col]\n",
    "    if model_name == 'ARIMA':\n",
    "        model = ARIMA(time_series_data[col], order=(1, 1, 0))\n",
    "    elif model_name == 'SARIMA':\n",
    "        model = SARIMAX(time_series_data[col], order=(1, 1, 0), seasonal_order=(1, 0, 0, 12))\n",
    "    elif model_name == 'SES':\n",
    "        model = SimpleExpSmoothing(time_series_data[col])\n",
    "    elif model_name == 'HWES':\n",
    "        model = ExponentialSmoothing(time_series_data[col], seasonal_periods=12, trend='add', seasonal='add')\n",
    "    else:\n",
    "        raise ValueError(f\"Unknown model name: {model_name}\")\n",
    "    fitted_model = model.fit()\n",
    "\n",
    "    # Forecast future values\n",
    "    forecast = fitted_model.forecast(steps=12)\n",
    "\n",
    "    # Store the forecasted values in the DataFrame\n",
    "    forecast_df[col] = forecast\n",
    "\n",
    "# Set the index of the DataFrame to be the forecasted dates\n",
    "forecast_df.index = pd.date_range(start='2023-03-31', periods=12, freq='M')\n",
    "\n",
    "# Print the DataFrame\n",
    "print(forecast_df)\n"
   ]
  },
  {
   "cell_type": "markdown",
   "metadata": {},
   "source": [
    "### New Arima"
   ]
  },
  {
   "cell_type": "code",
   "execution_count": null,
   "metadata": {},
   "outputs": [],
   "source": [
    "import itertools\n",
    "\n",
    "# Define the range of values for p, d, and q\n",
    "p_values = range(0, 3)\n",
    "d_values = range(0, 2)\n",
    "q_values = range(0, 3)\n",
    "\n",
    "# Generate all possible combinations of p, d, and q\n",
    "pdq_values = list(itertools.product(p_values, d_values, q_values))\n",
    "\n",
    "# Define an empty dictionary to store the RMSE values for each commodity\n",
    "rmse_dict = {col: [] for col in ['price of bread (400g)', 'Refined Vegetable oil (1L)', 'Cows Milk(Fresh,Pasteurized) -500ML', ' Diesel (1L)', 'Maize meal(2kg)', 'Gasoline (1L)']}\n",
    "\n",
    "# Iterate over each commodity and fit an ARIMA model\n",
    "for col in rmse_dict.keys():\n",
    "    # Select the column as the endogenous variable\n",
    "    endog = train_data[col]\n",
    "\n",
    "    # Find the exogenous variables\n",
    "    exog = train_data[['12-Month Inflation', 'Buy']]\n",
    "\n",
    "    # Find the best (p, d, q) values for the ARIMA model\n",
    "    rmse_values = []\n",
    "    for pdq in pdq_values:\n",
    "        # Fit ARIMA model\n",
    "        model = ARIMA(endog, order=pdq, exog=exog)\n",
    "        model_fit = model.fit()\n",
    "\n",
    "        # Make predictions\n",
    "        arima_predictions = model_fit.predict(start=len(train_data), end=len(train_data)+len(test_data)-1, exog=test_data[['12-Month Inflation', 'Buy']])\n",
    "\n",
    "        # Calculate RMSE\n",
    "        arima_rmse = np.sqrt(np.mean((arima_predictions - test_data[col])**2))\n",
    "\n",
    "        # Store the RMSE value\n",
    "        rmse_values.append(arima_rmse)\n",
    "\n",
    "    # Find the combination of p, d, and q that gives the lowest RMSE\n",
    "    best_pdq = pdq_values[np.argmin(rmse_values)]\n",
    "\n",
    "    # Fit ARIMA model with the best combination of p, d, and q\n",
    "    model = ARIMA(endog, order=best_pdq, exog=exog)\n",
    "    model_fit = model.fit()\n",
    "\n",
    "    # Make predictions with the best model\n",
    "    arima_predictions = model_fit.predict(start=len(train_data), end=len(train_data)+len(test_data)-1, exog=test_data[['12-Month Inflation', 'Buy']])\n",
    "\n",
    "    # Calculate RMSE with the best model\n",
    "    arima_rmse = np.sqrt(np.mean((arima_predictions - test_data[col])**2))\n",
    "\n",
    "    # Store the RMSE value in the dictionary\n",
    "    rmse_dict[col].append(arima_rmse)\n",
    "\n",
    "    print('Best (p, d, q) values for {}:'.format(col), best_pdq)\n",
    "    print('ARIMA RMSE for {}:'.format(col), arima_rmse)\n"
   ]
  },
  {
   "cell_type": "markdown",
   "metadata": {},
   "source": [
    "### VAR Model"
   ]
  },
  {
   "cell_type": "code",
   "execution_count": null,
   "metadata": {},
   "outputs": [],
   "source": [
    "test_obs = 12\n",
    "train = time_series_data[:-test_obs]\n",
    "test = time_series_data[-test_obs:]"
   ]
  },
  {
   "cell_type": "code",
   "execution_count": null,
   "metadata": {},
   "outputs": [],
   "source": [
    "from statsmodels.tsa.vector_ar.var_model import VAR"
   ]
  },
  {
   "cell_type": "code",
   "execution_count": null,
   "metadata": {},
   "outputs": [],
   "source": [
    "for i in [1,2,3,4,5,6,7,8,9,10]:\n",
    "    model = VAR(train)\n",
    "    results = model.fit(i)\n",
    "    print('Order =', i)\n",
    "    print('AIC: ', results.aic)\n",
    "    print('BIC: ', results.bic)\n",
    "    print()"
   ]
  },
  {
   "cell_type": "code",
   "execution_count": null,
   "metadata": {},
   "outputs": [],
   "source": [
    "result = model.fit(1)\n",
    "result.summary()"
   ]
  },
  {
   "cell_type": "code",
   "execution_count": null,
   "metadata": {},
   "outputs": [],
   "source": [
    "lagged_Values = time_series_data.values[-8:]\n",
    "pred = result.forecast(y=lagged_Values, steps=12) \n",
    "\n",
    "lagged_Values = time_series_data.values[-8:]\n",
    "pred = result.forecast(y=lagged_Values, steps=12) \n",
    "\n",
    "idx = pd.date_range('2023-03-31', periods=12, freq='MS')\n",
    "df_forecast=pd.DataFrame(data=pred, index=idx, columns=['price of bread (400g)', 'Refined Vegetable oil (1L)', 'Cows Milk(Fresh,Pasteurized) -500ML', ' Diesel (1L)', 'Maize meal(2kg)', 'Gasoline (1L)', '12-Month Inflation', 'Buy'])\n",
    "print(df_forecast)"
   ]
  },
  {
   "cell_type": "code",
   "execution_count": null,
   "metadata": {},
   "outputs": [],
   "source": []
  }
 ],
 "metadata": {
  "kernelspec": {
   "display_name": "Python (learn-env)",
   "language": "python",
   "name": "learn-env"
  },
  "language_info": {
   "codemirror_mode": {
    "name": "ipython",
    "version": 3
   },
   "file_extension": ".py",
   "mimetype": "text/x-python",
   "name": "python",
   "nbconvert_exporter": "python",
   "pygments_lexer": "ipython3",
   "version": "3.10.9"
  },
  "varInspector": {
   "cols": {
    "lenName": 16,
    "lenType": 16,
    "lenVar": 40
   },
   "kernels_config": {
    "python": {
     "delete_cmd_postfix": "",
     "delete_cmd_prefix": "del ",
     "library": "var_list.py",
     "varRefreshCmd": "print(var_dic_list())"
    },
    "r": {
     "delete_cmd_postfix": ") ",
     "delete_cmd_prefix": "rm(",
     "library": "var_list.r",
     "varRefreshCmd": "cat(var_dic_list()) "
    }
   },
   "types_to_exclude": [
    "module",
    "function",
    "builtin_function_or_method",
    "instance",
    "_Feature"
   ],
   "window_display": false
  }
 },
 "nbformat": 4,
 "nbformat_minor": 4
}
